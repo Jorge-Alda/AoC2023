{
 "cells": [
  {
   "cell_type": "code",
   "execution_count": 39,
   "metadata": {},
   "outputs": [],
   "source": [
    "with open('test.txt', 'rt') as f:\n",
    "    test = f.readlines()"
   ]
  },
  {
   "cell_type": "code",
   "execution_count": 1,
   "metadata": {},
   "outputs": [],
   "source": [
    "with open('input', 'rt') as f:\n",
    "    inp = f.readlines()"
   ]
  },
  {
   "cell_type": "code",
   "execution_count": 2,
   "metadata": {},
   "outputs": [
    {
     "data": {
      "text/plain": [
       "18"
      ]
     },
     "execution_count": 2,
     "metadata": {},
     "output_type": "execute_result"
    }
   ],
   "source": [
    "max(sum(1 for i in l if i=='?') for l in inp)"
   ]
  },
  {
   "cell_type": "code",
   "execution_count": 26,
   "metadata": {},
   "outputs": [],
   "source": [
    "def correct(record: str, arrangement: list[int]) -> bool:\n",
    "    lengths = list(i for i in map(len, record.split('.')) if i != 0)\n",
    "    return lengths == arrangement"
   ]
  },
  {
   "cell_type": "code",
   "execution_count": 27,
   "metadata": {},
   "outputs": [
    {
     "data": {
      "text/plain": [
       "False"
      ]
     },
     "execution_count": 27,
     "metadata": {},
     "output_type": "execute_result"
    }
   ],
   "source": [
    "correct('#.#.###', [1, 1, 4])"
   ]
  },
  {
   "cell_type": "code",
   "execution_count": 32,
   "metadata": {},
   "outputs": [],
   "source": [
    "def replace(record: str, mask: list[bool]) -> str:\n",
    "    r = ''\n",
    "    for l in record:\n",
    "        if l == '?':\n",
    "            if mask.pop():\n",
    "                r += '#'\n",
    "            else:\n",
    "                r += '.'\n",
    "        else:\n",
    "            r += l\n",
    "    return r"
   ]
  },
  {
   "cell_type": "code",
   "execution_count": 29,
   "metadata": {},
   "outputs": [
    {
     "name": "stdout",
     "output_type": "stream",
     "text": [
      ".##.###\n"
     ]
    },
    {
     "data": {
      "text/plain": [
       "'.##.###'"
      ]
     },
     "execution_count": 29,
     "metadata": {},
     "output_type": "execute_result"
    }
   ],
   "source": [
    "replace('???.###', [True, True, False])"
   ]
  },
  {
   "cell_type": "code",
   "execution_count": 33,
   "metadata": {},
   "outputs": [],
   "source": [
    "def arrangements(record: str, runs: list[int]) -> int:\n",
    "    num_sharp = sum(runs)\n",
    "    num_known = sum(1 for l in record if l == '#')\n",
    "    num_unknown = num_sharp - num_known\n",
    "    num_qm = sum(1 for l in record if l == '?')\n",
    "    tot = 0\n",
    "    for i in range(2**num_qm):\n",
    "        bin_qm = bin(i)[2:]\n",
    "        bin_qm = '0'*(num_qm-len(bin_qm)) + bin_qm\n",
    "        if sum(int(k) for k in bin_qm) != num_unknown:\n",
    "            continue\n",
    "        r = replace(record, list(k=='1' for k in bin_qm))\n",
    "        if correct(r, runs):\n",
    "            tot += 1\n",
    "    return tot"
   ]
  },
  {
   "cell_type": "code",
   "execution_count": 34,
   "metadata": {},
   "outputs": [
    {
     "data": {
      "text/plain": [
       "4"
      ]
     },
     "execution_count": 34,
     "metadata": {},
     "output_type": "execute_result"
    }
   ],
   "source": [
    "arrangements('.??..??...?##.', [1,1,3])"
   ]
  },
  {
   "cell_type": "code",
   "execution_count": 38,
   "metadata": {},
   "outputs": [],
   "source": [
    "def part1(text: str) -> int:\n",
    "    tot = 0\n",
    "    for l in text:\n",
    "        record, nums = l.split()\n",
    "        runs = list(int(i) for i in nums.split(','))\n",
    "        tot += arrangements(record, runs)\n",
    "    return tot"
   ]
  },
  {
   "cell_type": "code",
   "execution_count": 40,
   "metadata": {},
   "outputs": [
    {
     "data": {
      "text/plain": [
       "21"
      ]
     },
     "execution_count": 40,
     "metadata": {},
     "output_type": "execute_result"
    }
   ],
   "source": [
    "part1(test)"
   ]
  },
  {
   "cell_type": "code",
   "execution_count": 41,
   "metadata": {},
   "outputs": [],
   "source": [
    "with open('output1', 'wt') as f:\n",
    "    f.write(str(part1(inp)))"
   ]
  },
  {
   "cell_type": "code",
   "execution_count": null,
   "metadata": {},
   "outputs": [],
   "source": []
  }
 ],
 "metadata": {
  "kernelspec": {
   "display_name": "usr",
   "language": "python",
   "name": "python3"
  },
  "language_info": {
   "codemirror_mode": {
    "name": "ipython",
    "version": 3
   },
   "file_extension": ".py",
   "mimetype": "text/x-python",
   "name": "python",
   "nbconvert_exporter": "python",
   "pygments_lexer": "ipython3",
   "version": "3.12.0"
  }
 },
 "nbformat": 4,
 "nbformat_minor": 2
}
