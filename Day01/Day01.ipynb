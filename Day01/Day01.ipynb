{
 "cells": [
  {
   "cell_type": "code",
   "execution_count": 1,
   "metadata": {},
   "outputs": [],
   "source": [
    "with open(\"test.txt\", \"rt\") as f:\n",
    "    test = f.readlines()"
   ]
  },
  {
   "cell_type": "code",
   "execution_count": 8,
   "metadata": {},
   "outputs": [],
   "source": [
    "with open(\"input\", \"rt\") as f:\n",
    "    inp = f.readlines()"
   ]
  },
  {
   "cell_type": "markdown",
   "metadata": {},
   "source": [
    "## Part 1\n",
    "\n",
    "For each line, we have to extract the fist and last number (may be the same if there is only one number), and combine them in base 10. The result is the sum for all lines.\n",
    "\n",
    "The ASCII/Unicode codes for the numbers are consecutive, so we can just check if each character is between `'0'` and `'9'`. The Pythonic way to do it is using a list comprehension."
   ]
  },
  {
   "cell_type": "code",
   "execution_count": 6,
   "metadata": {},
   "outputs": [],
   "source": [
    "def part1(text: str) -> int:\n",
    "    tot = 0\n",
    "    for line in text:\n",
    "        numbers = [l for l in line if l >= '0' and l<= '9']\n",
    "        tot += 10 * int(numbers[0]) + int(numbers[-1])\n",
    "    return tot"
   ]
  },
  {
   "cell_type": "code",
   "execution_count": 7,
   "metadata": {},
   "outputs": [
    {
     "data": {
      "text/plain": [
       "142"
      ]
     },
     "execution_count": 7,
     "metadata": {},
     "output_type": "execute_result"
    }
   ],
   "source": [
    "part1(test)"
   ]
  },
  {
   "cell_type": "code",
   "execution_count": 17,
   "metadata": {},
   "outputs": [],
   "source": [
    "with open('output1', 'wt') as f:\n",
    "    f.write(str(part1(inp)))"
   ]
  },
  {
   "cell_type": "markdown",
   "metadata": {},
   "source": [
    "## Part 2\n",
    "\n",
    "Now, the digits can also be written with letters!"
   ]
  },
  {
   "cell_type": "code",
   "execution_count": 10,
   "metadata": {},
   "outputs": [],
   "source": [
    "with open(\"test2.txt\", \"rt\") as f:\n",
    "    test2 = f.readlines()"
   ]
  },
  {
   "cell_type": "code",
   "execution_count": 11,
   "metadata": {},
   "outputs": [],
   "source": [
    "digits = {'one': '1', 'two': '2', 'three': '3', 'four': '4', 'five': '5', 'six':'6', 'seven':'7', 'eight':'8', 'nine':'9'}"
   ]
  },
  {
   "cell_type": "code",
   "execution_count": 14,
   "metadata": {},
   "outputs": [],
   "source": [
    "def replace_digits(text: str) -> str:\n",
    "    for k, v in digits.items():\n",
    "        text = text.replace(k, v)\n",
    "    return text"
   ]
  },
  {
   "cell_type": "code",
   "execution_count": 20,
   "metadata": {},
   "outputs": [],
   "source": [
    "def part2(text: str) -> int:\n",
    "    tot = 0\n",
    "    for line in text:\n",
    "        numbers = [l for l in replace_digits(line) if l >= '0' and l<= '9']\n",
    "        print(numbers)\n",
    "        tot += 10 * int(numbers[0]) + int(numbers[-1])\n",
    "    return tot"
   ]
  },
  {
   "cell_type": "code",
   "execution_count": 21,
   "metadata": {},
   "outputs": [
    {
     "name": "stdout",
     "output_type": "stream",
     "text": [
      "['2', '1', '9']\n",
      "['2', '3']\n",
      "['1', '2', '3']\n",
      "['1', '3', '4']\n",
      "['4', '9', '8', '7', '2']\n",
      "['1', '2', '3', '4']\n",
      "['7', '6']\n"
     ]
    },
    {
     "data": {
      "text/plain": [
       "211"
      ]
     },
     "execution_count": 21,
     "metadata": {},
     "output_type": "execute_result"
    }
   ],
   "source": [
    "part2(test2)"
   ]
  },
  {
   "cell_type": "markdown",
   "metadata": {},
   "source": [
    "This doesn't work, because the digits may overlap:\n",
    "\n",
    "`eightwothree`\n",
    "\n",
    "and in these cases, the replace method goes sequentially, first replaces `two` $\\to$ `2` destroying `eight`.\n",
    "\n",
    "So instead we are going to look for coincidences:"
   ]
  },
  {
   "cell_type": "code",
   "execution_count": 25,
   "metadata": {},
   "outputs": [],
   "source": [
    "def part2(text: str, verbose: bool = False) -> int:\n",
    "    tot = 0\n",
    "    for line in text:\n",
    "        numbers = []\n",
    "        for i, l in enumerate(line):\n",
    "            if l >= '0' and l<= '9':\n",
    "                numbers.append(l)\n",
    "            else:\n",
    "                for k, v in digits.items():\n",
    "                    if line[i:i+len(k)] == k:\n",
    "                        numbers.append(v)\n",
    "        if verbose:\n",
    "            print(numbers)\n",
    "        tot += 10 * int(numbers[0]) + int(numbers[-1])\n",
    "    return tot"
   ]
  },
  {
   "cell_type": "code",
   "execution_count": 26,
   "metadata": {},
   "outputs": [
    {
     "name": "stdout",
     "output_type": "stream",
     "text": [
      "['2', '1', '9']\n",
      "['8', '2', '3']\n",
      "['1', '2', '3']\n",
      "['2', '1', '3', '4']\n",
      "['4', '9', '8', '7', '2']\n",
      "['1', '8', '2', '3', '4']\n",
      "['7', '6']\n"
     ]
    },
    {
     "data": {
      "text/plain": [
       "281"
      ]
     },
     "execution_count": 26,
     "metadata": {},
     "output_type": "execute_result"
    }
   ],
   "source": [
    "part2(test2, True)"
   ]
  },
  {
   "cell_type": "code",
   "execution_count": 27,
   "metadata": {},
   "outputs": [],
   "source": [
    "with open('output2', 'wt') as f:\n",
    "    f.write(str(part2(inp)))"
   ]
  },
  {
   "cell_type": "code",
   "execution_count": null,
   "metadata": {},
   "outputs": [],
   "source": []
  }
 ],
 "metadata": {
  "kernelspec": {
   "display_name": "usr",
   "language": "python",
   "name": "python3"
  },
  "language_info": {
   "codemirror_mode": {
    "name": "ipython",
    "version": 3
   },
   "file_extension": ".py",
   "mimetype": "text/x-python",
   "name": "python",
   "nbconvert_exporter": "python",
   "pygments_lexer": "ipython3",
   "version": "3.12.0"
  }
 },
 "nbformat": 4,
 "nbformat_minor": 2
}
