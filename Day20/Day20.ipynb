{
 "cells": [
  {
   "cell_type": "code",
   "execution_count": 1,
   "metadata": {},
   "outputs": [],
   "source": [
    "from queue import Queue"
   ]
  },
  {
   "cell_type": "code",
   "execution_count": 109,
   "metadata": {},
   "outputs": [],
   "source": [
    "class Module:\n",
    "    def __init__(self, destinations: list[str]):\n",
    "        self.destinations = destinations\n",
    "\n",
    "    def process(self, pulse: bool, parent: str) -> bool | None:\n",
    "        pass\n",
    "\n",
    "class Broadcast(Module):\n",
    "    def process(self, pulse: bool, parent: str = '') -> bool:\n",
    "        return pulse\n",
    "    \n",
    "class FlipFlop(Module):\n",
    "    def __init__(self, destinations: list[str]):\n",
    "        super().__init__(destinations)\n",
    "        self.state = False\n",
    "    def process(self, pulse: bool, parent: str = '') -> bool | None:\n",
    "        if pulse:\n",
    "            return None\n",
    "        if self.state == True:\n",
    "            self.state = False\n",
    "            return False\n",
    "        else:\n",
    "            self.state = True\n",
    "            return True\n",
    "    \n",
    "class Conjunction(Module):\n",
    "    def __init__(self, destinations: list[str], inputs: int):\n",
    "        super().__init__(destinations)\n",
    "        self.memory: dict[str, bool] = {}\n",
    "        self.inputs = inputs\n",
    "    def process(self, pulse: bool, parent: str) -> bool | None:\n",
    "        self.memory[parent] = pulse\n",
    "        return not((len(self.memory) == self.inputs) and (all(self.memory.values())))\n"
   ]
  },
  {
   "cell_type": "code",
   "execution_count": 45,
   "metadata": {},
   "outputs": [],
   "source": [
    "def parse(text: list[str]) -> dict[str, Module]:\n",
    "    d: dict[str, Module] = {}\n",
    "    for l in text:\n",
    "        tag, dest = l.strip().split(' -> ')\n",
    "        dl = dest.split(', ')\n",
    "        if tag[0] == '%':\n",
    "            m = FlipFlop(dl)\n",
    "            tag = tag[1:]\n",
    "        elif tag[0] == '&':\n",
    "            tag = tag[1:]\n",
    "            ninp = sum(1 for l1 in text if ' '+tag in l1)\n",
    "            m = Conjunction(dl, ninp)\n",
    "        else:\n",
    "            m = Broadcast(dl)\n",
    "        d |= {tag: m}\n",
    "    return d"
   ]
  },
  {
   "cell_type": "code",
   "execution_count": 34,
   "metadata": {},
   "outputs": [],
   "source": [
    "with open('test1.txt', 'rt') as f:\n",
    "    test1 = f.readlines()"
   ]
  },
  {
   "cell_type": "code",
   "execution_count": 119,
   "metadata": {},
   "outputs": [],
   "source": [
    "mconf = parse(test1)"
   ]
  },
  {
   "cell_type": "code",
   "execution_count": 118,
   "metadata": {},
   "outputs": [],
   "source": [
    "def press_button(mconf: dict[str, Module], debug: bool = False) -> tuple[int, int]:\n",
    "    q = Queue()\n",
    "    q.put(('button', False, 'broadcaster'))\n",
    "    low = 1\n",
    "    high = 0\n",
    "    while not q.empty():\n",
    "        pulse = q.get()\n",
    "        if pulse[2] not in mconf.keys():\n",
    "            continue\n",
    "        mod = mconf[pulse[2]]\n",
    "        processed = mod.process(pulse[1], pulse[0])\n",
    "        if processed is None:\n",
    "            continue\n",
    "        if processed:\n",
    "            high += len(mod.destinations)\n",
    "        else:\n",
    "            low += len(mod.destinations)\n",
    "        for it in mod.destinations:\n",
    "            q.put((pulse[2], processed, it))\n",
    "            if debug:\n",
    "                print((pulse[2], processed, it))\n",
    "    return low, high"
   ]
  },
  {
   "cell_type": "code",
   "execution_count": 120,
   "metadata": {},
   "outputs": [
    {
     "name": "stdout",
     "output_type": "stream",
     "text": [
      "('broadcaster', False, 'a')\n",
      "('broadcaster', False, 'b')\n",
      "('broadcaster', False, 'c')\n",
      "('a', True, 'b')\n",
      "('b', True, 'c')\n",
      "('c', True, 'inv')\n",
      "('inv', False, 'a')\n",
      "('a', False, 'b')\n",
      "('b', False, 'c')\n",
      "('c', False, 'inv')\n",
      "('inv', True, 'a')\n"
     ]
    },
    {
     "data": {
      "text/plain": [
       "(8, 4)"
      ]
     },
     "execution_count": 120,
     "metadata": {},
     "output_type": "execute_result"
    }
   ],
   "source": [
    "press_button(mconf, True)"
   ]
  },
  {
   "cell_type": "code",
   "execution_count": 121,
   "metadata": {},
   "outputs": [],
   "source": [
    "with open('test2.txt', 'rt') as f:\n",
    "    test2 = f.readlines()\n",
    "\n",
    "mconf2 = parse(test2)"
   ]
  },
  {
   "cell_type": "code",
   "execution_count": 122,
   "metadata": {},
   "outputs": [
    {
     "name": "stdout",
     "output_type": "stream",
     "text": [
      "('broadcaster', False, 'a')\n",
      "('a', True, 'inv')\n",
      "('a', True, 'con')\n",
      "('inv', False, 'b')\n",
      "('con', True, 'output')\n",
      "('b', True, 'con')\n",
      "('con', False, 'output')\n"
     ]
    },
    {
     "data": {
      "text/plain": [
       "(4, 4)"
      ]
     },
     "execution_count": 122,
     "metadata": {},
     "output_type": "execute_result"
    }
   ],
   "source": [
    "press_button(mconf2, True)"
   ]
  },
  {
   "cell_type": "code",
   "execution_count": 123,
   "metadata": {},
   "outputs": [
    {
     "name": "stdout",
     "output_type": "stream",
     "text": [
      "('broadcaster', False, 'a')\n",
      "('a', False, 'inv')\n",
      "('a', False, 'con')\n",
      "('inv', True, 'b')\n",
      "('con', True, 'output')\n"
     ]
    },
    {
     "data": {
      "text/plain": [
       "(4, 2)"
      ]
     },
     "execution_count": 123,
     "metadata": {},
     "output_type": "execute_result"
    }
   ],
   "source": [
    "press_button(mconf2, True)"
   ]
  },
  {
   "cell_type": "code",
   "execution_count": 124,
   "metadata": {},
   "outputs": [
    {
     "name": "stdout",
     "output_type": "stream",
     "text": [
      "('broadcaster', False, 'a')\n",
      "('a', True, 'inv')\n",
      "('a', True, 'con')\n",
      "('inv', False, 'b')\n",
      "('con', False, 'output')\n",
      "('b', False, 'con')\n",
      "('con', True, 'output')\n"
     ]
    },
    {
     "data": {
      "text/plain": [
       "(5, 3)"
      ]
     },
     "execution_count": 124,
     "metadata": {},
     "output_type": "execute_result"
    }
   ],
   "source": [
    "press_button(mconf2, True)"
   ]
  },
  {
   "cell_type": "code",
   "execution_count": 125,
   "metadata": {},
   "outputs": [],
   "source": [
    "def part1(test: list[str]) -> int:\n",
    "    mconf = parse(test)\n",
    "    low = 0\n",
    "    high = 0\n",
    "    for _ in range(1000):\n",
    "        l, h = press_button(mconf)\n",
    "        low += l\n",
    "        high += h\n",
    "    return low*high"
   ]
  },
  {
   "cell_type": "code",
   "execution_count": 126,
   "metadata": {},
   "outputs": [
    {
     "data": {
      "text/plain": [
       "32000000"
      ]
     },
     "execution_count": 126,
     "metadata": {},
     "output_type": "execute_result"
    }
   ],
   "source": [
    "part1(test1)"
   ]
  },
  {
   "cell_type": "code",
   "execution_count": 127,
   "metadata": {},
   "outputs": [
    {
     "data": {
      "text/plain": [
       "11687500"
      ]
     },
     "execution_count": 127,
     "metadata": {},
     "output_type": "execute_result"
    }
   ],
   "source": [
    "part1(test2)"
   ]
  },
  {
   "cell_type": "code",
   "execution_count": 128,
   "metadata": {},
   "outputs": [],
   "source": [
    "with open('input', 'rt') as f:\n",
    "    inp = f.readlines()"
   ]
  },
  {
   "cell_type": "code",
   "execution_count": 129,
   "metadata": {},
   "outputs": [],
   "source": [
    "with open('output1', 'wt') as f:\n",
    "    f.write(str(part1(inp)))"
   ]
  },
  {
   "cell_type": "code",
   "execution_count": null,
   "metadata": {},
   "outputs": [],
   "source": []
  }
 ],
 "metadata": {
  "kernelspec": {
   "display_name": "usr",
   "language": "python",
   "name": "python3"
  },
  "language_info": {
   "codemirror_mode": {
    "name": "ipython",
    "version": 3
   },
   "file_extension": ".py",
   "mimetype": "text/x-python",
   "name": "python",
   "nbconvert_exporter": "python",
   "pygments_lexer": "ipython3",
   "version": "3.12.0"
  }
 },
 "nbformat": 4,
 "nbformat_minor": 2
}
