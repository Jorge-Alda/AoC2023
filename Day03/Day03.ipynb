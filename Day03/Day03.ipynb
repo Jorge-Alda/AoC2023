{
 "cells": [
  {
   "cell_type": "code",
   "execution_count": 2,
   "metadata": {},
   "outputs": [],
   "source": [
    "with open('test.txt', 'rt') as f:\n",
    "    test = f.readlines()"
   ]
  },
  {
   "cell_type": "code",
   "execution_count": 27,
   "metadata": {},
   "outputs": [],
   "source": [
    "with open('input', 'rt') as f:\n",
    "    inp = f.readlines()"
   ]
  },
  {
   "cell_type": "code",
   "execution_count": 9,
   "metadata": {},
   "outputs": [],
   "source": [
    "def symbols(engine: list[str]) -> dict[tuple[int, int], str]:\n",
    "    d: dict[tuple[int, int], str] = {}\n",
    "    for y, l in enumerate(engine):\n",
    "        for x, t in enumerate(l.strip()):\n",
    "            if t not in '01234546789.':\n",
    "                d |= {(x, y): t}\n",
    "    return d"
   ]
  },
  {
   "cell_type": "code",
   "execution_count": 8,
   "metadata": {},
   "outputs": [
    {
     "data": {
      "text/plain": [
       "{(3, 1): '*', (6, 3): '#', (3, 4): '*', (5, 5): '+', (3, 8): '$', (5, 8): '*'}"
      ]
     },
     "execution_count": 8,
     "metadata": {},
     "output_type": "execute_result"
    }
   ],
   "source": [
    "symbols(test)"
   ]
  },
  {
   "cell_type": "code",
   "execution_count": 14,
   "metadata": {},
   "outputs": [],
   "source": [
    "def numbers(engine: list[str]) -> dict[tuple[int, int], int]:\n",
    "    d: dict[tuple[int, int], int] = {}\n",
    "    num = ''\n",
    "    for y, l in enumerate(engine):\n",
    "        for x, t in enumerate(l+'.'):\n",
    "            if t in '01234546789':\n",
    "                num += t\n",
    "            elif len(num) > 0:\n",
    "                d |= {(x-1, y): int(num)}\n",
    "                num = ''\n",
    "    return d"
   ]
  },
  {
   "cell_type": "code",
   "execution_count": 15,
   "metadata": {},
   "outputs": [
    {
     "data": {
      "text/plain": [
       "{(2, 0): 467,\n",
       " (7, 0): 114,\n",
       " (3, 2): 35,\n",
       " (8, 2): 633,\n",
       " (2, 4): 617,\n",
       " (8, 5): 58,\n",
       " (4, 6): 592,\n",
       " (8, 7): 755,\n",
       " (3, 9): 664,\n",
       " (7, 9): 598}"
      ]
     },
     "execution_count": 15,
     "metadata": {},
     "output_type": "execute_result"
    }
   ],
   "source": [
    "numbers(test)"
   ]
  },
  {
   "cell_type": "code",
   "execution_count": 20,
   "metadata": {},
   "outputs": [],
   "source": [
    "def neighbors_num(coords: tuple[int, int], length: int) -> set[tuple[int, int]]:\n",
    "    s = {(coords[0]-length, coords[1]), (coords[0]+1, coords[1])}\n",
    "    for i in range(coords[0]-length, coords[0]+2):\n",
    "        s |= {(i, coords[1]-1), (i, coords[1]+1)}\n",
    "    return s"
   ]
  },
  {
   "cell_type": "code",
   "execution_count": 22,
   "metadata": {},
   "outputs": [
    {
     "data": {
      "text/plain": [
       "{(-1, -1),\n",
       " (-1, 0),\n",
       " (-1, 1),\n",
       " (0, -1),\n",
       " (0, 1),\n",
       " (1, -1),\n",
       " (1, 1),\n",
       " (2, -1),\n",
       " (2, 1),\n",
       " (3, -1),\n",
       " (3, 0),\n",
       " (3, 1)}"
      ]
     },
     "execution_count": 22,
     "metadata": {},
     "output_type": "execute_result"
    }
   ],
   "source": [
    "neighbors_num((2,0), 3)"
   ]
  },
  {
   "cell_type": "code",
   "execution_count": 24,
   "metadata": {},
   "outputs": [
    {
     "data": {
      "text/plain": [
       "{(3, 1)}"
      ]
     },
     "execution_count": 24,
     "metadata": {},
     "output_type": "execute_result"
    }
   ],
   "source": [
    "neighbors_num((2,0), 3) & set(symbols(test).keys())"
   ]
  },
  {
   "cell_type": "code",
   "execution_count": 25,
   "metadata": {},
   "outputs": [],
   "source": [
    "def part1(engine: list[str]) -> int:\n",
    "    tot = 0\n",
    "    nums = numbers(engine)\n",
    "    symbs = set(symbols(engine).keys())\n",
    "    for k, v in nums.items():\n",
    "        if len(neighbors_num(k, len(str(v))) & symbs) > 0:\n",
    "            tot += v\n",
    "    return tot"
   ]
  },
  {
   "cell_type": "code",
   "execution_count": 26,
   "metadata": {},
   "outputs": [
    {
     "data": {
      "text/plain": [
       "4361"
      ]
     },
     "execution_count": 26,
     "metadata": {},
     "output_type": "execute_result"
    }
   ],
   "source": [
    "part1(test)"
   ]
  },
  {
   "cell_type": "code",
   "execution_count": 28,
   "metadata": {},
   "outputs": [],
   "source": [
    "with open('output1', 'wt') as f:\n",
    "    f.write(str(part1(inp)))"
   ]
  },
  {
   "cell_type": "code",
   "execution_count": null,
   "metadata": {},
   "outputs": [],
   "source": []
  }
 ],
 "metadata": {
  "kernelspec": {
   "display_name": "usr",
   "language": "python",
   "name": "python3"
  },
  "language_info": {
   "codemirror_mode": {
    "name": "ipython",
    "version": 3
   },
   "file_extension": ".py",
   "mimetype": "text/x-python",
   "name": "python",
   "nbconvert_exporter": "python",
   "pygments_lexer": "ipython3",
   "version": "3.12.0"
  }
 },
 "nbformat": 4,
 "nbformat_minor": 2
}
