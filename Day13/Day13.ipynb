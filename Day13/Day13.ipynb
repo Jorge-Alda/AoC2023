{
 "cells": [
  {
   "cell_type": "code",
   "execution_count": 1,
   "metadata": {},
   "outputs": [],
   "source": [
    "with open('test.txt', 'rt') as f:\n",
    "    test = f.read()"
   ]
  },
  {
   "cell_type": "code",
   "execution_count": 39,
   "metadata": {},
   "outputs": [],
   "source": [
    "with open('input', 'rt') as f:\n",
    "    inp = f.read()"
   ]
  },
  {
   "cell_type": "code",
   "execution_count": 7,
   "metadata": {},
   "outputs": [
    {
     "data": {
      "text/plain": [
       "['#.##..##.',\n",
       " '..#.##.#.',\n",
       " '##......#',\n",
       " '##......#',\n",
       " '..#.##.#.',\n",
       " '..##..##.',\n",
       " '#.#.##.#.']"
      ]
     },
     "execution_count": 7,
     "metadata": {},
     "output_type": "execute_result"
    }
   ],
   "source": [
    "[t.split('\\n') for t in test.split('\\n\\n')][0]"
   ]
  },
  {
   "cell_type": "code",
   "execution_count": 46,
   "metadata": {},
   "outputs": [],
   "source": [
    "def diff_string(a: str, b: str) -> int:\n",
    "    tot = len(a)\n",
    "    for la, lb in zip(a, b):\n",
    "        tot -= int(la==lb)\n",
    "    return tot"
   ]
  },
  {
   "cell_type": "code",
   "execution_count": 51,
   "metadata": {},
   "outputs": [],
   "source": [
    "def vert_reflexion(valley: list[str], diffs: int = 0) -> int:\n",
    "    lv = len(valley[0])\n",
    "    for i in range(1, lv):\n",
    "        tot_diffs = 0\n",
    "        for j in range(min(i, lv-i)):\n",
    "            left = ''.join(l[i-j-1] for l in valley)\n",
    "            right = ''.join(l[i+j] for l in valley)\n",
    "            tot_diffs += diff_string(left, right)\n",
    "        if tot_diffs == diffs:\n",
    "            return i\n",
    "    return 0"
   ]
  },
  {
   "cell_type": "code",
   "execution_count": 52,
   "metadata": {},
   "outputs": [
    {
     "data": {
      "text/plain": [
       "5"
      ]
     },
     "execution_count": 52,
     "metadata": {},
     "output_type": "execute_result"
    }
   ],
   "source": [
    "vert_reflexion([t.split('\\n') for t in test.split('\\n\\n')][0])"
   ]
  },
  {
   "cell_type": "code",
   "execution_count": 53,
   "metadata": {},
   "outputs": [],
   "source": [
    "def hor_reflexion(valley: list[str], diffs: int = 0) -> int:\n",
    "    lv = len(valley)\n",
    "    for i in range(1, lv):\n",
    "        tot_diffs = 0\n",
    "        for j in range(min(i, lv-i)):\n",
    "            left = valley[i-j-1]\n",
    "            right = valley[i+j]\n",
    "            tot_diffs += diff_string(left, right)\n",
    "        if tot_diffs == diffs:\n",
    "            return i\n",
    "    return 0"
   ]
  },
  {
   "cell_type": "code",
   "execution_count": 54,
   "metadata": {},
   "outputs": [
    {
     "data": {
      "text/plain": [
       "4"
      ]
     },
     "execution_count": 54,
     "metadata": {},
     "output_type": "execute_result"
    }
   ],
   "source": [
    "hor_reflexion([t.split('\\n') for t in test.split('\\n\\n')][1])"
   ]
  },
  {
   "cell_type": "code",
   "execution_count": 59,
   "metadata": {},
   "outputs": [],
   "source": [
    "def part1(text: str) -> int:\n",
    "    valley = [t.split('\\n') for t in text.strip().split('\\n\\n')]\n",
    "    tot = 0\n",
    "    for v in valley:\n",
    "        tot += vert_reflexion(v) + 100*hor_reflexion(v)\n",
    "    return tot"
   ]
  },
  {
   "cell_type": "code",
   "execution_count": 56,
   "metadata": {},
   "outputs": [
    {
     "data": {
      "text/plain": [
       "405"
      ]
     },
     "execution_count": 56,
     "metadata": {},
     "output_type": "execute_result"
    }
   ],
   "source": [
    "part1(test)"
   ]
  },
  {
   "cell_type": "code",
   "execution_count": 57,
   "metadata": {},
   "outputs": [],
   "source": [
    "with open('output1', 'wt') as f:\n",
    "    f.write(str(part1(inp)))"
   ]
  },
  {
   "cell_type": "code",
   "execution_count": 61,
   "metadata": {},
   "outputs": [],
   "source": [
    "def part2(text: str) -> int:\n",
    "    valley = [t.split('\\n') for t in text.strip().split('\\n\\n')]\n",
    "    tot = 0\n",
    "    for v in valley:\n",
    "        tot += vert_reflexion(v, 1) + 100*hor_reflexion(v, 1)\n",
    "    return tot"
   ]
  },
  {
   "cell_type": "code",
   "execution_count": 62,
   "metadata": {},
   "outputs": [
    {
     "data": {
      "text/plain": [
       "400"
      ]
     },
     "execution_count": 62,
     "metadata": {},
     "output_type": "execute_result"
    }
   ],
   "source": [
    "part2(test)"
   ]
  },
  {
   "cell_type": "code",
   "execution_count": 63,
   "metadata": {},
   "outputs": [],
   "source": [
    "with open('output2', 'wt') as f:\n",
    "    f.write(str(part2(inp)))"
   ]
  },
  {
   "cell_type": "code",
   "execution_count": null,
   "metadata": {},
   "outputs": [],
   "source": []
  }
 ],
 "metadata": {
  "kernelspec": {
   "display_name": "usr",
   "language": "python",
   "name": "python3"
  },
  "language_info": {
   "codemirror_mode": {
    "name": "ipython",
    "version": 3
   },
   "file_extension": ".py",
   "mimetype": "text/x-python",
   "name": "python",
   "nbconvert_exporter": "python",
   "pygments_lexer": "ipython3",
   "version": "3.12.0"
  }
 },
 "nbformat": 4,
 "nbformat_minor": 2
}
