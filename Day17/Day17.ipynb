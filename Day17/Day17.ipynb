{
 "cells": [
  {
   "cell_type": "code",
   "execution_count": 29,
   "metadata": {},
   "outputs": [],
   "source": [
    "from enum import Enum\n",
    "import heapq\n",
    "from dataclasses import dataclass\n",
    "from typing import Self, Iterable\n",
    "from functools import total_ordering"
   ]
  },
  {
   "cell_type": "code",
   "execution_count": 30,
   "metadata": {},
   "outputs": [],
   "source": [
    "class Direction(Enum):\n",
    "    N = 0\n",
    "    E = 1\n",
    "    S = 2\n",
    "    W = 3\n",
    "\n",
    "    def opposite(self) -> Self:\n",
    "        return Direction((self.value+2)%4)\n",
    "    \n",
    "    def cont(self) -> Iterable[Self]:\n",
    "        return (d for d in Direction if d != self.opposite())\n",
    "\n",
    "@dataclass(frozen=True)\n",
    "class State:\n",
    "    x: int\n",
    "    y: int\n",
    "    d: Direction\n",
    "    length: int\n",
    "\n",
    "@total_ordering\n",
    "@dataclass\n",
    "class Prio:\n",
    "    state: State\n",
    "    p: int\n",
    "\n",
    "    def __lt__(self, other: Self) -> bool:\n",
    "        return self.p < other.p"
   ]
  },
  {
   "cell_type": "code",
   "execution_count": 47,
   "metadata": {},
   "outputs": [],
   "source": [
    "def neighbors(state: State, lenx: int, leny: int) -> list[State]:\n",
    "    new: list[State] = []\n",
    "    for d in state.d.cont():\n",
    "        if d == state.d:\n",
    "            if state.length == 2:\n",
    "                continue\n",
    "            else:\n",
    "                l = state.length + 1\n",
    "        else:\n",
    "            l = 0\n",
    "\n",
    "        match d:\n",
    "            case Direction.N:\n",
    "                if state.y == 0:\n",
    "                    continue\n",
    "                new.append(State(state.x, state.y-1, d, l))\n",
    "            case Direction.E:\n",
    "                if state.x == lenx-1:\n",
    "                    continue\n",
    "                new.append(State(state.x+1, state.y, d, l))\n",
    "            case Direction.S:\n",
    "                if state.y == leny-1:\n",
    "                    continue\n",
    "                new.append(State(state.x, state.y+1, d, l))\n",
    "            case Direction.W:\n",
    "                if state.x == 0:\n",
    "                    continue\n",
    "                new.append(State(state.x-1, state.y, d, l))\n",
    "    return new"
   ]
  },
  {
   "cell_type": "code",
   "execution_count": 58,
   "metadata": {},
   "outputs": [],
   "source": [
    "def part1(text: list[str]) -> int:\n",
    "    grid = [[int(t) for t in l.strip()] for l in text]\n",
    "    lenx = len(grid[0])\n",
    "    leny = len(grid)\n",
    "    frontier = [Prio(State(0, 0, Direction.E, 0), 0), Prio(State(0, 0, Direction.S, 0), 0)]\n",
    "    heapq.heapify(frontier)\n",
    "    cost = {State(0, 0, Direction.E, 0): 0, State(0, 0, Direction.S, 0): 0}\n",
    "    while len(frontier) > 0:\n",
    "        current = heapq.heappop(frontier).state\n",
    "        if current.x == lenx-1 and current.y == leny-1:\n",
    "            break\n",
    "        for n in neighbors(current, lenx, leny):\n",
    "            ncost = cost[current] + grid[n.y][n.x]\n",
    "            if n not in cost.keys() or ncost < cost[n]:\n",
    "                cost[n] = ncost\n",
    "                heapq.heappush(frontier, Prio(n, ncost))\n",
    "    r = float('inf')\n",
    "    for k, v in cost.items():\n",
    "        if k.x == lenx-1 and k.y == leny-1:\n",
    "            r = min(r, v)\n",
    "    return r"
   ]
  },
  {
   "cell_type": "code",
   "execution_count": 27,
   "metadata": {},
   "outputs": [],
   "source": [
    "with open('test.txt', 'rt') as f:\n",
    "    test = f.readlines()"
   ]
  },
  {
   "cell_type": "code",
   "execution_count": 59,
   "metadata": {},
   "outputs": [
    {
     "data": {
      "text/plain": [
       "102"
      ]
     },
     "execution_count": 59,
     "metadata": {},
     "output_type": "execute_result"
    }
   ],
   "source": [
    "part1(test)"
   ]
  },
  {
   "cell_type": "code",
   "execution_count": 54,
   "metadata": {},
   "outputs": [],
   "source": [
    "with open('input', 'rt') as f:\n",
    "    inp = f.readlines()"
   ]
  },
  {
   "cell_type": "code",
   "execution_count": 60,
   "metadata": {},
   "outputs": [],
   "source": [
    "with open('output1', 'wt') as f:\n",
    "    f.write(str(part1(inp)))"
   ]
  },
  {
   "cell_type": "code",
   "execution_count": null,
   "metadata": {},
   "outputs": [],
   "source": []
  }
 ],
 "metadata": {
  "kernelspec": {
   "display_name": "usr",
   "language": "python",
   "name": "python3"
  },
  "language_info": {
   "codemirror_mode": {
    "name": "ipython",
    "version": 3
   },
   "file_extension": ".py",
   "mimetype": "text/x-python",
   "name": "python",
   "nbconvert_exporter": "python",
   "pygments_lexer": "ipython3",
   "version": "3.12.0"
  }
 },
 "nbformat": 4,
 "nbformat_minor": 2
}
