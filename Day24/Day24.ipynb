{
 "cells": [
  {
   "cell_type": "code",
   "execution_count": 22,
   "metadata": {},
   "outputs": [],
   "source": [
    "import numpy as np\n",
    "import re"
   ]
  },
  {
   "cell_type": "code",
   "execution_count": 48,
   "metadata": {},
   "outputs": [],
   "source": [
    "def intersection(pos1: tuple[int, int], vel1: tuple[int, int], pos2: tuple[int, int], vel2: tuple[int, int]) -> tuple[float, float] | None:\n",
    "    m = np.matrix([[1./vel1[0], -1./vel1[1]], [1./vel2[0], -1./vel2[1]]], dtype=float)\n",
    "    if np.linalg.det(m) == 0:\n",
    "        return None\n",
    "    s = np.array([pos1[0]/vel1[0]-pos1[1]/vel1[1], pos2[0]/vel2[0]-pos2[1]/vel2[1]], dtype=float)\n",
    "    ip = m.I @ s\n",
    "    return (ip[0,0], ip[0,1])"
   ]
  },
  {
   "cell_type": "code",
   "execution_count": 46,
   "metadata": {},
   "outputs": [],
   "source": [
    "def part1(text: list[str], minarea: int, maxarea: int) -> int:\n",
    "    pattern = re.compile(r\"([0-9]*),\\s+([0-9]*),\\s+([0-9]*)\\s+@\\s+(-?[0-9]*),\\s+(-?[0-9]*),\\s+(-?[0-9]*)\")\n",
    "    tot = 0\n",
    "    for i in range(len(text)):\n",
    "        for j in range(i):\n",
    "            mi = pattern.match(text[i])\n",
    "            mj = pattern.match(text[j])\n",
    "            xi, yi, zi, vxi, vyi, vzi = (int(x) for x in mi.groups())\n",
    "            xj, yj, zj, vxj, vyj, vzj = (int(x) for x in mj.groups())\n",
    "            ip = intersection((xi, yi), (vxi, vyi), (xj, yj), (vxj, vyj))\n",
    "            if ip is not None and ip[0] >= minarea and ip[0] <= maxarea and ip[1] >= minarea and ip[1] <= maxarea:\n",
    "                ti = (ip[0]-xi)/vxi\n",
    "                tj = (ip[0]-xj)/vxj\n",
    "                if ti > 0 and tj > 0:\n",
    "                    tot += 1\n",
    "    return tot"
   ]
  },
  {
   "cell_type": "code",
   "execution_count": 28,
   "metadata": {},
   "outputs": [],
   "source": [
    "with open(\"test.txt\", \"rt\") as f:\n",
    "    test = f.readlines()"
   ]
  },
  {
   "cell_type": "code",
   "execution_count": 49,
   "metadata": {},
   "outputs": [
    {
     "data": {
      "text/plain": [
       "2"
      ]
     },
     "execution_count": 49,
     "metadata": {},
     "output_type": "execute_result"
    }
   ],
   "source": [
    "part1(test, 7, 27)"
   ]
  },
  {
   "cell_type": "code",
   "execution_count": 50,
   "metadata": {},
   "outputs": [],
   "source": [
    "with open(\"input\", \"rt\") as f:\n",
    "    inp = f.readlines()"
   ]
  },
  {
   "cell_type": "code",
   "execution_count": 52,
   "metadata": {},
   "outputs": [],
   "source": [
    "with open(\"output1\", \"wt\") as f:\n",
    "    f.write(str(part1(inp, 200000000000000, 400000000000000)))"
   ]
  },
  {
   "cell_type": "code",
   "execution_count": null,
   "metadata": {},
   "outputs": [],
   "source": []
  }
 ],
 "metadata": {
  "kernelspec": {
   "display_name": "usr",
   "language": "python",
   "name": "python3"
  },
  "language_info": {
   "codemirror_mode": {
    "name": "ipython",
    "version": 3
   },
   "file_extension": ".py",
   "mimetype": "text/x-python",
   "name": "python",
   "nbconvert_exporter": "python",
   "pygments_lexer": "ipython3",
   "version": "3.12.1"
  }
 },
 "nbformat": 4,
 "nbformat_minor": 2
}
