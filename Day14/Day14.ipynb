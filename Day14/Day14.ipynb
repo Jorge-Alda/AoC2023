{
 "cells": [
  {
   "cell_type": "code",
   "execution_count": 1,
   "metadata": {},
   "outputs": [],
   "source": [
    "with open('test.txt', 'rt') as f:\n",
    "    test = f.readlines()"
   ]
  },
  {
   "cell_type": "code",
   "execution_count": 32,
   "metadata": {},
   "outputs": [],
   "source": [
    "with open('input', 'rt') as f:\n",
    "    inp = f.readlines()"
   ]
  },
  {
   "cell_type": "code",
   "execution_count": 30,
   "metadata": {},
   "outputs": [],
   "source": [
    "def part1(text: list[str]) -> int:\n",
    "    rocks = [0,]*len(text)\n",
    "    for i in range(len(text[0].strip())):\n",
    "        blocks = [-1,] + [j for j in range(len(text)) if text[j][i] == '#'] + [len(text),]\n",
    "        for k in range(len(blocks)-1):\n",
    "            nrocks = sum(1 for j in range(blocks[k]+1, blocks[k+1]) if text[j][i] == 'O')\n",
    "            for j in range(nrocks):\n",
    "                rocks[blocks[k]+j+1] += 1\n",
    "    return sum(rocks[i]*(len(text)-i) for i in range(len(rocks)))"
   ]
  },
  {
   "cell_type": "code",
   "execution_count": 31,
   "metadata": {},
   "outputs": [
    {
     "data": {
      "text/plain": [
       "136"
      ]
     },
     "execution_count": 31,
     "metadata": {},
     "output_type": "execute_result"
    }
   ],
   "source": [
    "part1(test)"
   ]
  },
  {
   "cell_type": "code",
   "execution_count": 33,
   "metadata": {},
   "outputs": [],
   "source": [
    "with open('output1', 'wt') as f:\n",
    "    f.write(str(part1(inp)))"
   ]
  },
  {
   "cell_type": "code",
   "execution_count": 50,
   "metadata": {},
   "outputs": [],
   "source": [
    "def parse_cubes(mirrors: list[str]) -> list[list[bool]]:\n",
    "    return [[t == '#' for t in l.strip()] for l in mirrors]\n",
    "\n",
    "def parse_rounded(mirrors: list[str]) -> list[list[bool]]:\n",
    "    return [[t == 'O' for t in l.strip()] for l in mirrors]\n",
    "\n",
    "def paint(rounded: list[list[bool]], cubes: list[list[bool]]):\n",
    "    for i in range(len(rounded)):\n",
    "        r = ''\n",
    "        for j in range(len(rounded[i])):\n",
    "            if cubes[i][j]:\n",
    "                r += '#'\n",
    "            elif rounded[i][j]:\n",
    "                r += 'O'\n",
    "            else:\n",
    "                r += '.'\n",
    "        print(r)"
   ]
  },
  {
   "cell_type": "code",
   "execution_count": 51,
   "metadata": {},
   "outputs": [
    {
     "name": "stdout",
     "output_type": "stream",
     "text": [
      "O....#....\n",
      "O.OO#....#\n",
      ".....##...\n",
      "OO.#O....O\n",
      ".O.....O#.\n",
      "O.#..O.#.#\n",
      "..O..#O..O\n",
      ".......O..\n",
      "#....###..\n",
      "#OO..#....\n"
     ]
    }
   ],
   "source": [
    "cubes = parse_cubes(test)\n",
    "rounded = parse_rounded(test)\n",
    "paint(rounded, cubes)"
   ]
  },
  {
   "cell_type": "code",
   "execution_count": 53,
   "metadata": {},
   "outputs": [],
   "source": [
    "def north(rounded: list[list[bool]], cubes: list[list[bool]]) -> list[list[bool]]:\n",
    "    rocks = [[False for t in l] for l in rounded]\n",
    "    for i in range(len(rounded[0])):\n",
    "        blocks = [-1,] + [j for j in range(len(cubes)) if cubes[j][i]] + [len(cubes),]\n",
    "        for k in range(len(blocks)-1):\n",
    "            nrocks = sum(1 for j in range(blocks[k]+1, blocks[k+1]) if rounded[j][i])\n",
    "            for j in range(nrocks):\n",
    "                rocks[blocks[k]+j+1][i] = True\n",
    "    return rocks"
   ]
  },
  {
   "cell_type": "code",
   "execution_count": 54,
   "metadata": {},
   "outputs": [
    {
     "name": "stdout",
     "output_type": "stream",
     "text": [
      "OOOO.#.O..\n",
      "OO..#....#\n",
      "OO..O##..O\n",
      "O..#.OO...\n",
      "........#.\n",
      "..#....#.#\n",
      "..O..#.O.O\n",
      "..O.......\n",
      "#....###..\n",
      "#....#....\n"
     ]
    }
   ],
   "source": [
    "paint(north(rounded, cubes), cubes)"
   ]
  },
  {
   "cell_type": "code",
   "execution_count": 55,
   "metadata": {},
   "outputs": [],
   "source": [
    "def west(rounded: list[list[bool]], cubes: list[list[bool]]) -> list[list[bool]]:\n",
    "    rocks = [[False for t in l] for l in rounded]\n",
    "    for i in range(len(rounded)):\n",
    "        blocks = [-1,] + [j for j in range(len(cubes[i])) if cubes[i][j]] + [len(cubes[i]),]\n",
    "        for k in range(len(blocks)-1):\n",
    "            nrocks = sum(1 for j in range(blocks[k]+1, blocks[k+1]) if rounded[i][j])\n",
    "            for j in range(nrocks):\n",
    "                rocks[i][blocks[k]+j+1] = True\n",
    "    return rocks"
   ]
  },
  {
   "cell_type": "code",
   "execution_count": 56,
   "metadata": {},
   "outputs": [
    {
     "name": "stdout",
     "output_type": "stream",
     "text": [
      "O....#....\n",
      "O.OO#....#\n",
      ".....##...\n",
      "OO.#O....O\n",
      ".O.....O#.\n",
      "O.#..O.#.#\n",
      "..O..#O..O\n",
      ".......O..\n",
      "#....###..\n",
      "#OO..#....\n"
     ]
    }
   ],
   "source": [
    "paint(rounded, cubes)"
   ]
  },
  {
   "cell_type": "code",
   "execution_count": 57,
   "metadata": {},
   "outputs": [
    {
     "name": "stdout",
     "output_type": "stream",
     "text": [
      "O....#....\n",
      "OOO.#....#\n",
      ".....##...\n",
      "OO.#OO....\n",
      "OO......#.\n",
      "O.#O...#.#\n",
      "O....#OO..\n",
      "O.........\n",
      "#....###..\n",
      "#OO..#....\n"
     ]
    }
   ],
   "source": [
    "paint(west(rounded, cubes), cubes)"
   ]
  },
  {
   "cell_type": "code",
   "execution_count": 58,
   "metadata": {},
   "outputs": [],
   "source": [
    "def south(rounded: list[list[bool]], cubes: list[list[bool]]) -> list[list[bool]]:\n",
    "    rocks = [[False for t in l] for l in rounded]\n",
    "    for i in range(len(rounded[0])):\n",
    "        blocks = [-1,] + [j for j in range(len(cubes)) if cubes[j][i]] + [len(cubes),]\n",
    "        for k in range(len(blocks)-1):\n",
    "            nrocks = sum(1 for j in range(blocks[k]+1, blocks[k+1]) if rounded[j][i])\n",
    "            for j in range(nrocks):\n",
    "                rocks[blocks[k+1]-j-1][i] = True\n",
    "    return rocks"
   ]
  },
  {
   "cell_type": "code",
   "execution_count": 59,
   "metadata": {},
   "outputs": [
    {
     "name": "stdout",
     "output_type": "stream",
     "text": [
      "O....#....\n",
      "O.OO#....#\n",
      ".....##...\n",
      "OO.#O....O\n",
      ".O.....O#.\n",
      "O.#..O.#.#\n",
      "..O..#O..O\n",
      ".......O..\n",
      "#....###..\n",
      "#OO..#....\n"
     ]
    }
   ],
   "source": [
    "paint(rounded, cubes)"
   ]
  },
  {
   "cell_type": "code",
   "execution_count": 60,
   "metadata": {},
   "outputs": [
    {
     "name": "stdout",
     "output_type": "stream",
     "text": [
      ".....#....\n",
      "....#....#\n",
      "...O.##...\n",
      "...#......\n",
      "O.O....O#O\n",
      "O.#..O.#.#\n",
      "O....#....\n",
      "OO....OO..\n",
      "#OO..###..\n",
      "#OO.O#...O\n"
     ]
    }
   ],
   "source": [
    "paint(south(rounded, cubes), cubes)"
   ]
  },
  {
   "cell_type": "code",
   "execution_count": 61,
   "metadata": {},
   "outputs": [],
   "source": [
    "def east(rounded: list[list[bool]], cubes: list[list[bool]]) -> list[list[bool]]:\n",
    "    rocks = [[False for t in l] for l in rounded]\n",
    "    for i in range(len(rounded)):\n",
    "        blocks = [-1,] + [j for j in range(len(cubes[i])) if cubes[i][j]] + [len(cubes[i]),]\n",
    "        for k in range(len(blocks)-1):\n",
    "            nrocks = sum(1 for j in range(blocks[k]+1, blocks[k+1]) if rounded[i][j])\n",
    "            for j in range(nrocks):\n",
    "                rocks[i][blocks[k+1]-j-1] = True\n",
    "    return rocks"
   ]
  },
  {
   "cell_type": "code",
   "execution_count": 62,
   "metadata": {},
   "outputs": [
    {
     "name": "stdout",
     "output_type": "stream",
     "text": [
      "O....#....\n",
      "O.OO#....#\n",
      ".....##...\n",
      "OO.#O....O\n",
      ".O.....O#.\n",
      "O.#..O.#.#\n",
      "..O..#O..O\n",
      ".......O..\n",
      "#....###..\n",
      "#OO..#....\n"
     ]
    }
   ],
   "source": [
    "paint(rounded, cubes)"
   ]
  },
  {
   "cell_type": "code",
   "execution_count": 63,
   "metadata": {},
   "outputs": [
    {
     "name": "stdout",
     "output_type": "stream",
     "text": [
      "....O#....\n",
      ".OOO#....#\n",
      ".....##...\n",
      ".OO#....OO\n",
      "......OO#.\n",
      ".O#...O#.#\n",
      "....O#..OO\n",
      ".........O\n",
      "#....###..\n",
      "#..OO#....\n"
     ]
    }
   ],
   "source": [
    "paint(east(rounded, cubes), cubes)"
   ]
  },
  {
   "cell_type": "code",
   "execution_count": 64,
   "metadata": {},
   "outputs": [],
   "source": [
    "def cycle(rounded: list[list[bool]], cubes: list[list[bool]]) -> list[list[bool]]:\n",
    "    s1 = north(rounded, cubes)\n",
    "    s2 = west(s1, cubes)\n",
    "    s3 = south(s2, cubes)\n",
    "    return east(s3, cubes)"
   ]
  },
  {
   "cell_type": "code",
   "execution_count": 65,
   "metadata": {},
   "outputs": [
    {
     "name": "stdout",
     "output_type": "stream",
     "text": [
      ".....#....\n",
      "....#...O#\n",
      "...OO##...\n",
      ".OO#......\n",
      ".....OOO#.\n",
      ".O#...O#.#\n",
      "....O#....\n",
      "......OOOO\n",
      "#...O###..\n",
      "#..OO#....\n"
     ]
    }
   ],
   "source": [
    "paint(cycle(rounded, cubes), cubes)"
   ]
  },
  {
   "cell_type": "code",
   "execution_count": 120,
   "metadata": {},
   "outputs": [],
   "source": [
    "def check_cycles(rounded: list[list[bool]], cubes: list[list[bool]]) -> tuple[int, int]:\n",
    "    visited = []\n",
    "    x = rounded.copy()\n",
    "    while 1:\n",
    "        x = cycle(x, cubes)\n",
    "        if x in visited:\n",
    "            return (visited.index(x), len(visited)-visited.index(x))\n",
    "        visited.append(x)"
   ]
  },
  {
   "cell_type": "code",
   "execution_count": 121,
   "metadata": {},
   "outputs": [
    {
     "data": {
      "text/plain": [
       "(2, 7)"
      ]
     },
     "execution_count": 121,
     "metadata": {},
     "output_type": "execute_result"
    }
   ],
   "source": [
    "check_cycles(rounded, cubes)"
   ]
  },
  {
   "cell_type": "code",
   "execution_count": 122,
   "metadata": {},
   "outputs": [
    {
     "data": {
      "text/plain": [
       "(1, 7)"
      ]
     },
     "execution_count": 122,
     "metadata": {},
     "output_type": "execute_result"
    }
   ],
   "source": [
    "check_cycles(cycle(rounded, cubes), cubes)"
   ]
  },
  {
   "cell_type": "code",
   "execution_count": 123,
   "metadata": {},
   "outputs": [
    {
     "data": {
      "text/plain": [
       "(0, 7)"
      ]
     },
     "execution_count": 123,
     "metadata": {},
     "output_type": "execute_result"
    }
   ],
   "source": [
    "check_cycles(cycle(cycle(rounded, cubes), cubes), cubes)"
   ]
  },
  {
   "cell_type": "code",
   "execution_count": 124,
   "metadata": {},
   "outputs": [
    {
     "data": {
      "text/plain": [
       "(0, 7)"
      ]
     },
     "execution_count": 124,
     "metadata": {},
     "output_type": "execute_result"
    }
   ],
   "source": [
    "check_cycles(cycle(cycle(cycle(rounded, cubes), cubes), cubes), cubes)"
   ]
  },
  {
   "cell_type": "code",
   "execution_count": 77,
   "metadata": {},
   "outputs": [
    {
     "name": "stdout",
     "output_type": "stream",
     "text": [
      "3\n",
      ".....#....\n",
      "....#...O#\n",
      ".....##...\n",
      "..O#......\n",
      ".....OOO#.\n",
      ".O#...O#.#\n",
      "....O#...O\n",
      ".......OOO\n",
      "#...O###.O\n",
      "#.OOO#...O\n",
      "11\n",
      ".....#....\n",
      "....#...O#\n",
      ".....##...\n",
      "..O#......\n",
      ".....OOO#.\n",
      ".O#...O#.#\n",
      "....O#...O\n",
      ".......OOO\n",
      "#...O###.O\n",
      "#..OO#..OO\n",
      "19\n",
      ".....#....\n",
      "....#...O#\n",
      ".....##...\n",
      "...#......\n",
      ".....OOO#.\n",
      ".O#...O#.#\n",
      "....O#...O\n",
      "......OOOO\n",
      "#...O###.O\n",
      "#..OO#..OO\n",
      "27\n",
      ".....#....\n",
      "....#...O#\n",
      ".....##...\n",
      "...#......\n",
      ".....OOO#.\n",
      ".O#...O#.#\n",
      "....O#...O\n",
      "......OOOO\n",
      "#....###.O\n",
      "#.OOO#..OO\n",
      "35\n",
      ".....#....\n",
      "....#...O#\n",
      ".....##...\n",
      "..O#......\n",
      "......OO#.\n",
      ".O#...O#.#\n",
      "....O#...O\n",
      "......OOOO\n",
      "#....###.O\n",
      "#.OOO#..OO\n",
      "43\n",
      ".....#....\n",
      "....#...O#\n",
      ".....##...\n",
      "..O#......\n",
      "......OO#.\n",
      ".O#...O#.#\n",
      "....O#....\n",
      "......OOOO\n",
      "#...O###.O\n",
      "#.OOO#..OO\n"
     ]
    }
   ],
   "source": [
    "x = rounded.copy()\n",
    "for i in range(50):\n",
    "    x = cycle(x, cubes)\n",
    "    if (i-2)%8==0:\n",
    "        print(str(i+1))\n",
    "        paint(x, cubes)"
   ]
  },
  {
   "cell_type": "code",
   "execution_count": 81,
   "metadata": {},
   "outputs": [],
   "source": [
    "def score(rounded: list[list[bool]]) -> int:\n",
    "    return sum((len(rounded) - i)*sum(int(j) for j in rounded[i]) for i in range(len(rounded)))"
   ]
  },
  {
   "cell_type": "code",
   "execution_count": 82,
   "metadata": {},
   "outputs": [
    {
     "data": {
      "text/plain": [
       "136"
      ]
     },
     "execution_count": 82,
     "metadata": {},
     "output_type": "execute_result"
    }
   ],
   "source": [
    "score(north(rounded, cubes))"
   ]
  },
  {
   "cell_type": "code",
   "execution_count": 152,
   "metadata": {},
   "outputs": [],
   "source": [
    "def part2(text: list[str]) -> int:\n",
    "    rounded = parse_rounded(text)\n",
    "    cubes = parse_cubes(text)\n",
    "    offset, freq = check_cycles(rounded, cubes)\n",
    "    x = rounded.copy()\n",
    "    for _ in range(offset + (1000000000-offset)%freq):\n",
    "        x = cycle(x, cubes)\n",
    "    return score(x)"
   ]
  },
  {
   "cell_type": "code",
   "execution_count": 153,
   "metadata": {},
   "outputs": [
    {
     "data": {
      "text/plain": [
       "64"
      ]
     },
     "execution_count": 153,
     "metadata": {},
     "output_type": "execute_result"
    }
   ],
   "source": [
    "part2(test)"
   ]
  },
  {
   "cell_type": "code",
   "execution_count": 154,
   "metadata": {},
   "outputs": [],
   "source": [
    "with open('output2', 'wt') as f:\n",
    "    f.write(str(part2(inp)))"
   ]
  },
  {
   "cell_type": "code",
   "execution_count": null,
   "metadata": {},
   "outputs": [],
   "source": []
  }
 ],
 "metadata": {
  "kernelspec": {
   "display_name": "usr",
   "language": "python",
   "name": "python3"
  },
  "language_info": {
   "codemirror_mode": {
    "name": "ipython",
    "version": 3
   },
   "file_extension": ".py",
   "mimetype": "text/x-python",
   "name": "python",
   "nbconvert_exporter": "python",
   "pygments_lexer": "ipython3",
   "version": "3.12.0"
  }
 },
 "nbformat": 4,
 "nbformat_minor": 2
}
