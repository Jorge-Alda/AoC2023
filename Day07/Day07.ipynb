{
 "cells": [
  {
   "cell_type": "code",
   "execution_count": 1,
   "metadata": {},
   "outputs": [],
   "source": [
    "from collections import Counter"
   ]
  },
  {
   "cell_type": "code",
   "execution_count": 2,
   "metadata": {},
   "outputs": [],
   "source": [
    "with open(\"test.txt\", \"rt\") as f:\n",
    "    test = f.readlines()"
   ]
  },
  {
   "cell_type": "code",
   "execution_count": 21,
   "metadata": {},
   "outputs": [],
   "source": [
    "with open(\"input\", \"rt\") as f:\n",
    "    inp = f.readlines()"
   ]
  },
  {
   "cell_type": "code",
   "execution_count": 10,
   "metadata": {},
   "outputs": [],
   "source": [
    "hands = {'5': 6, '41': 5, '32': 4, '311': 3, '221': 2, '2111': 1, '11111': 0}\n",
    "cards = {'A': 12, 'K': 11, 'Q': 10, 'J': 9, 'T': 8, '9': 7, '8': 6, '7': 5, '6': 4, '5': 3, '4': 2, '3': 1, '2': 0}"
   ]
  },
  {
   "cell_type": "code",
   "execution_count": 19,
   "metadata": {},
   "outputs": [],
   "source": [
    "def part1(text: str) -> int:\n",
    "    scored = []\n",
    "    for hand, bid in map(lambda x: x.split(), text):\n",
    "        score = hands[\"\".join(map(lambda x: str(x[1]), Counter(hand).most_common()))]\n",
    "        score += sum(cards[c]/13**(i+1) for i, c in enumerate(hand))\n",
    "        scored.append((hand, score, int(bid)))\n",
    "    s = sorted(scored, key=lambda x: x[1])\n",
    "    tot = 0\n",
    "    for i in range(len(s)):\n",
    "        tot += (i+1)*s[i][2]\n",
    "    return tot"
   ]
  },
  {
   "cell_type": "code",
   "execution_count": 20,
   "metadata": {},
   "outputs": [
    {
     "data": {
      "text/plain": [
       "6440"
      ]
     },
     "execution_count": 20,
     "metadata": {},
     "output_type": "execute_result"
    }
   ],
   "source": [
    "part1(test)"
   ]
  },
  {
   "cell_type": "code",
   "execution_count": 22,
   "metadata": {},
   "outputs": [],
   "source": [
    "with open(\"output1\", \"wt\") as f:\n",
    "    f.write(str(part1(inp)))"
   ]
  },
  {
   "cell_type": "code",
   "execution_count": 23,
   "metadata": {},
   "outputs": [],
   "source": [
    "cards2 = {'A': 12, 'K': 11, 'Q': 10, 'J': 0, 'T': 9, '9': 8, '8': 7, '7': 6, '6': 5, '5': 4, '4': 3, '3': 2, '2': 1}"
   ]
  },
  {
   "cell_type": "code",
   "execution_count": 34,
   "metadata": {},
   "outputs": [],
   "source": [
    "def part2(text: str) -> int:\n",
    "    scored = []\n",
    "    for hand, bid in map(lambda x: x.split(), text):\n",
    "        numJ = len(hand) - len(hand.replace('J', ''))\n",
    "        if numJ == 5:\n",
    "            score = 6\n",
    "        else:\n",
    "            count_noJ = list(map(lambda x: x[1], Counter(hand.replace('J', '')).most_common()))\n",
    "            count_noJ[0] += numJ\n",
    "            score = hands[\"\".join(map(str, count_noJ))]\n",
    "        score += sum(cards2[c]/13**(i+1) for i, c in enumerate(hand))\n",
    "        scored.append((hand, score, int(bid)))\n",
    "    s = sorted(scored, key=lambda x: x[1])\n",
    "    tot = 0\n",
    "    for i in range(len(s)):\n",
    "        tot += (i+1)*s[i][2]\n",
    "    return tot"
   ]
  },
  {
   "cell_type": "code",
   "execution_count": 32,
   "metadata": {},
   "outputs": [
    {
     "data": {
      "text/plain": [
       "5905"
      ]
     },
     "execution_count": 32,
     "metadata": {},
     "output_type": "execute_result"
    }
   ],
   "source": [
    "part2(test)"
   ]
  },
  {
   "cell_type": "code",
   "execution_count": 35,
   "metadata": {},
   "outputs": [],
   "source": [
    "with open(\"output2\", \"wt\") as f:\n",
    "    f.write(str(part2(inp)))"
   ]
  },
  {
   "cell_type": "code",
   "execution_count": null,
   "metadata": {},
   "outputs": [],
   "source": []
  }
 ],
 "metadata": {
  "kernelspec": {
   "display_name": "usr",
   "language": "python",
   "name": "python3"
  },
  "language_info": {
   "codemirror_mode": {
    "name": "ipython",
    "version": 3
   },
   "file_extension": ".py",
   "mimetype": "text/x-python",
   "name": "python",
   "nbconvert_exporter": "python",
   "pygments_lexer": "ipython3",
   "version": "3.12.0"
  }
 },
 "nbformat": 4,
 "nbformat_minor": 2
}
