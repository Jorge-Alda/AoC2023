{
 "cells": [
  {
   "cell_type": "code",
   "execution_count": 5,
   "metadata": {},
   "outputs": [],
   "source": [
    "from typing import Self"
   ]
  },
  {
   "cell_type": "code",
   "execution_count": 76,
   "metadata": {},
   "outputs": [],
   "source": [
    "class Block:\n",
    "    def __init__(self, start: tuple[int, int, int], end: tuple[int, int, int], tag: str|None = None) -> None:\n",
    "        if start[2] <= end[2]:\n",
    "            self.start = start\n",
    "            self.end = end\n",
    "        else:\n",
    "            self.start = end\n",
    "            self.end = start\n",
    "        self.tag = tag\n",
    "\n",
    "    def __lt__(self, other: Self) -> bool:\n",
    "        return self.start[2] < other.start[2]\n",
    "    \n",
    "    def __repr__(self) -> str:\n",
    "        if self.tag is not None:\n",
    "            return f\"{self.tag}\\t{self.start[0]},{self.start[1]},{self.start[2]}~{self.end[0]},{self.end[1]},{self.end[2]}\"\n",
    "        else:\n",
    "            return f\"{self.start[0]},{self.start[1]},{self.start[2]}~{self.end[0]},{self.end[1]},{self.end[2]}\"\n",
    "    \n",
    "    def drop1(self) -> Self:\n",
    "        return Block((self.start[0], self.start[1], self.start[2]-1), (self.end[0], self.end[1], self.end[2]-1), self.tag)\n",
    "    \n",
    "    def coords(self) -> set[tuple[int, int, int]]:\n",
    "        return {(x, y, z) for x in range(self.start[0], self.end[0]+1) for y in range(self.start[1], self.end[1]+1) for z in range(self.start[2], self.end[2]+1)}\n",
    "\n",
    "    @classmethod\n",
    "    def parse(cls, text: str, tag: str|None = None) -> Self:\n",
    "        start, end = text.split('~')\n",
    "        return Block(tuple(int(i) for i in start.split(',')), tuple(int(i) for i in end.split(',')), tag)"
   ]
  },
  {
   "cell_type": "code",
   "execution_count": 143,
   "metadata": {},
   "outputs": [],
   "source": [
    "def dropblocks(blocks: list[Block]) -> tuple[list[Block], int]:\n",
    "    it = 0\n",
    "    sblocks = sorted(blocks)\n",
    "    settled: list[Block] = []\n",
    "    maxheight: dict[tuple[int, int], int] = {}\n",
    "    moves = 0\n",
    "    while len(sblocks) > 0:\n",
    "        it += 1\n",
    "        b = sblocks[0]\n",
    "        if b.start[2] == 1:\n",
    "            settled.append(b)\n",
    "            sblocks = sblocks[1:]\n",
    "            for c in b.coords():\n",
    "                maxheight[(c[0], c[1])] = 1\n",
    "            continue\n",
    "        dropped = b.drop1()\n",
    "        intersects = False\n",
    "        for c in dropped.coords():\n",
    "            if (c[0], c[1]) in maxheight.keys() and c[2] <= maxheight[(c[0], c[1])]:\n",
    "                intersects = True\n",
    "        if not intersects:\n",
    "            sblocks = [dropped,] + sblocks[1:]\n",
    "            moves += 1\n",
    "        else:\n",
    "            settled.append(b)\n",
    "            sblocks = sblocks[1:]\n",
    "            for c in b.coords():\n",
    "                if (c[0], c[1]) in maxheight.keys():\n",
    "                    maxheight[(c[0], c[1])] = max(c[2], maxheight[(c[0], c[1])])\n",
    "                else:\n",
    "                    maxheight[(c[0], c[1])] = c[2]\n",
    "    return sorted(settled), moves\n"
   ]
  },
  {
   "cell_type": "code",
   "execution_count": 27,
   "metadata": {},
   "outputs": [],
   "source": [
    "with open('test.txt', 'rt') as f:\n",
    "    test = f.readlines()"
   ]
  },
  {
   "cell_type": "code",
   "execution_count": 124,
   "metadata": {},
   "outputs": [],
   "source": [
    "blocks = [Block.parse(s.strip(), tag) for s, tag in zip(test, 'ABCDEFG')]"
   ]
  },
  {
   "cell_type": "code",
   "execution_count": 125,
   "metadata": {},
   "outputs": [
    {
     "data": {
      "text/plain": [
       "[A\t1,0,1~1,2,1,\n",
       " B\t0,0,2~2,0,2,\n",
       " C\t0,2,3~2,2,3,\n",
       " D\t0,0,4~0,2,4,\n",
       " E\t2,0,5~2,2,5,\n",
       " F\t0,1,6~2,1,6,\n",
       " G\t1,1,8~1,1,9]"
      ]
     },
     "execution_count": 125,
     "metadata": {},
     "output_type": "execute_result"
    }
   ],
   "source": [
    "blocks"
   ]
  },
  {
   "cell_type": "code",
   "execution_count": 138,
   "metadata": {},
   "outputs": [
    {
     "data": {
      "text/plain": [
       "([A\t1,0,1~1,2,1,\n",
       "  B\t0,0,2~2,0,2,\n",
       "  C\t0,2,2~2,2,2,\n",
       "  D\t0,0,3~0,2,3,\n",
       "  E\t2,0,3~2,2,3,\n",
       "  F\t0,1,4~2,1,4,\n",
       "  G\t1,1,5~1,1,6],\n",
       " 9)"
      ]
     },
     "execution_count": 138,
     "metadata": {},
     "output_type": "execute_result"
    }
   ],
   "source": [
    "dropblocks(blocks)"
   ]
  },
  {
   "cell_type": "code",
   "execution_count": 140,
   "metadata": {},
   "outputs": [],
   "source": [
    "def part1(text: list[str]) -> int:\n",
    "    blocks = [Block.parse(s.strip()) for s in text]\n",
    "    nblocks, _ = dropblocks(blocks)\n",
    "    supports = 0\n",
    "    for i in range(len(nblocks)):\n",
    "        removed = nblocks[:i] + nblocks[i+1:]\n",
    "        _, n = dropblocks(removed)\n",
    "        if n == 0:\n",
    "            supports += 1\n",
    "    return supports"
   ]
  },
  {
   "cell_type": "code",
   "execution_count": 141,
   "metadata": {},
   "outputs": [
    {
     "data": {
      "text/plain": [
       "5"
      ]
     },
     "execution_count": 141,
     "metadata": {},
     "output_type": "execute_result"
    }
   ],
   "source": [
    "part1(test)"
   ]
  },
  {
   "cell_type": "code",
   "execution_count": 78,
   "metadata": {},
   "outputs": [],
   "source": [
    "with open('input', 'rt') as f:\n",
    "    inp = f.readlines()"
   ]
  },
  {
   "cell_type": "code",
   "execution_count": 144,
   "metadata": {},
   "outputs": [],
   "source": [
    "with open('output1', 'wt') as f:\n",
    "    f.write(str(part1(inp)))"
   ]
  },
  {
   "cell_type": "code",
   "execution_count": null,
   "metadata": {},
   "outputs": [],
   "source": []
  }
 ],
 "metadata": {
  "kernelspec": {
   "display_name": "usr",
   "language": "python",
   "name": "python3"
  },
  "language_info": {
   "codemirror_mode": {
    "name": "ipython",
    "version": 3
   },
   "file_extension": ".py",
   "mimetype": "text/x-python",
   "name": "python",
   "nbconvert_exporter": "python",
   "pygments_lexer": "ipython3",
   "version": "3.12.0"
  }
 },
 "nbformat": 4,
 "nbformat_minor": 2
}
