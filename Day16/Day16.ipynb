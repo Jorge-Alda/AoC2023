{
 "cells": [
  {
   "cell_type": "code",
   "execution_count": 8,
   "metadata": {},
   "outputs": [],
   "source": [
    "from enum import Enum\n",
    "from dataclasses import dataclass\n",
    "\n",
    "class Direction(int, Enum):\n",
    "    N = 0\n",
    "    E = 1\n",
    "    S = 2\n",
    "    W = 3\n",
    "\n",
    "class Square(Enum):\n",
    "    Empty = '.'\n",
    "    MirrorNE = '/'\n",
    "    MirrorNW = \"\\\\\"\n",
    "    SplitterHor = '|'\n",
    "    SplitterVer = '-'\n",
    "\n",
    "@dataclass\n",
    "class Ray:\n",
    "    x: int\n",
    "    y: int\n",
    "    d: Direction"
   ]
  },
  {
   "cell_type": "code",
   "execution_count": 9,
   "metadata": {},
   "outputs": [],
   "source": [
    "def next_ray(ray: Ray, sq: Square, lenx: int, leny: int) -> list[Ray]:\n",
    "    match sq:\n",
    "        case Square.Empty:\n",
    "            match ray.d:\n",
    "                case Direction.N:\n",
    "                    if ray.y == 0:\n",
    "                        return []\n",
    "                    else:\n",
    "                        return [Ray(ray.x, ray.y-1, ray.d),]\n",
    "                case Direction.E:\n",
    "                    if ray.x == lenx-1:\n",
    "                        return []\n",
    "                    else:\n",
    "                        return [Ray(ray.x+1, ray.y, ray.d),]\n",
    "                case Direction.S:\n",
    "                    if ray.y == leny-1:\n",
    "                        return []\n",
    "                    else:\n",
    "                        return [Ray(ray.x, ray.y+1, ray.d),]\n",
    "                case Direction.W:\n",
    "                    if ray.x == 0:\n",
    "                        return []\n",
    "                    else:\n",
    "                        return [Ray(ray.x-1, ray.y, ray.d),]\n",
    "        case Square.MirrorNE:\n",
    "            match ray.d:\n",
    "                case Direction.N:\n",
    "                    if ray.x == lenx-1:\n",
    "                        return []\n",
    "                    else:\n",
    "                        return [Ray(ray.x+1, ray.y, Direction.E),]\n",
    "                case Direction.E:\n",
    "                    if ray.y == 0:\n",
    "                        return []\n",
    "                    else:\n",
    "                        return [Ray(ray.x, ray.y-1, Direction.N)]\n",
    "                case Direction.S:\n",
    "                    if ray.x == 0:\n",
    "                        return []\n",
    "                    else:\n",
    "                        return [Ray(ray.x-1, ray.y, Direction.W)]\n",
    "                case Direction.W:\n",
    "                    if ray.y == leny-1:\n",
    "                        return []\n",
    "                    else:\n",
    "                        return [Ray(ray.x, ray.y+1, Direction.S)]\n",
    "        case Square.MirrorNW:\n",
    "            match ray.d:\n",
    "                case Direction.N:\n",
    "                    if ray.x == 0:\n",
    "                        return []\n",
    "                    else:\n",
    "                        return [Ray(ray.x-1, ray.y, Direction.W)]\n",
    "                case Direction.E:\n",
    "                    if ray.y == leny-1:\n",
    "                        return []\n",
    "                    else:\n",
    "                        return [Ray(ray.x, ray.y+1, Direction.S)]\n",
    "                case Direction.S:\n",
    "                    if ray.x == lenx-1:\n",
    "                        return []\n",
    "                    else:\n",
    "                        return [Ray(ray.x+1, ray.y, Direction.E)]\n",
    "                case Direction.W:\n",
    "                    if ray.y == 0:\n",
    "                        return []\n",
    "                    else:\n",
    "                        return [Ray(ray.x, ray.y-1, Direction.N)]\n",
    "        case Square.SplitterHor:\n",
    "            match ray.d:\n",
    "                case Direction.N:\n",
    "                    if ray.y == 0:\n",
    "                        return []\n",
    "                    else:\n",
    "                        return [Ray(ray.x, ray.y-1, ray.d),]\n",
    "                case Direction.S:\n",
    "                    if ray.y == leny-1:\n",
    "                        return []\n",
    "                    else:\n",
    "                        return [Ray(ray.x, ray.y+1, ray.d),]\n",
    "                case Direction.E | Direction.W:\n",
    "                    r = []\n",
    "                    if ray.y != 0:\n",
    "                        r.append(Ray(ray.x, ray.y-1, Direction.N))\n",
    "                    if ray.y != leny-1:\n",
    "                        r.append(Ray(ray.x, ray.y+1, Direction.S))\n",
    "                    return r\n",
    "        case Square.SplitterVer:\n",
    "            match ray.d:\n",
    "                case Direction.E:\n",
    "                    if ray.x == lenx-1:\n",
    "                        return []\n",
    "                    else:\n",
    "                        return [Ray(ray.x+1, ray.y, ray.d),]\n",
    "                case Direction.W:\n",
    "                    if ray.x == 0:\n",
    "                        return []\n",
    "                    else:\n",
    "                        return [Ray(ray.x-1, ray.y, ray.d),]\n",
    "                case Direction.N | Direction.S:\n",
    "                    r = []\n",
    "                    if ray.x != 0:\n",
    "                        r.append(Ray(ray.x-1, ray.y, Direction.W))\n",
    "                    if ray.x != lenx-1:\n",
    "                        r.append(Ray(ray.x+1, ray.y, Direction.E))\n",
    "                    return r"
   ]
  },
  {
   "cell_type": "code",
   "execution_count": 34,
   "metadata": {},
   "outputs": [],
   "source": [
    "def path(grid: list[str], start: Ray) -> int:\n",
    "    lenx = len(grid[0].strip())\n",
    "    leny = len(grid)\n",
    "    light = []\n",
    "    for _ in range(leny):\n",
    "        s = []\n",
    "        for _ in range(lenx):\n",
    "            s.append([False, False, False, False])\n",
    "        light.append(s)\n",
    "    light[start.y][start.x][start.d] = True\n",
    "    rays: list[Ray] = [start]\n",
    "    while len(rays) > 0:\n",
    "        ray = rays.pop()\n",
    "        newrays = next_ray(ray, Square(grid[ray.y][ray.x]), lenx, leny)\n",
    "        for r in newrays:\n",
    "            if not light[r.y][r.x][r.d.value]:\n",
    "                light[r.y][r.x][r.d.value] = True\n",
    "                rays.append(r)\n",
    "    return sum(sum(1 for j in range(lenx) if any(light[i][j])) for i in range(leny))\n",
    "\n",
    "def part1(grid: list[str]) -> int:\n",
    "    return path(grid, Ray(0, 0, Direction.E))"
   ]
  },
  {
   "cell_type": "code",
   "execution_count": 25,
   "metadata": {},
   "outputs": [],
   "source": [
    "with open('test.txt', 'rt') as f:\n",
    "    test = f.readlines()"
   ]
  },
  {
   "cell_type": "code",
   "execution_count": 31,
   "metadata": {},
   "outputs": [
    {
     "data": {
      "text/plain": [
       "46"
      ]
     },
     "execution_count": 31,
     "metadata": {},
     "output_type": "execute_result"
    }
   ],
   "source": [
    "part1(test)"
   ]
  },
  {
   "cell_type": "code",
   "execution_count": 32,
   "metadata": {},
   "outputs": [],
   "source": [
    "with open('input', 'rt') as f:\n",
    "    inp = f.readlines()"
   ]
  },
  {
   "cell_type": "code",
   "execution_count": 35,
   "metadata": {},
   "outputs": [],
   "source": [
    "with open('output1', 'wt') as f:\n",
    "    f.write(str(part1(inp)))"
   ]
  },
  {
   "cell_type": "code",
   "execution_count": 40,
   "metadata": {},
   "outputs": [],
   "source": [
    "def part2(grid: list[str]) -> int:\n",
    "    lenx = len(grid[0].strip())\n",
    "    leny = len(grid)\n",
    "    tiles = 0\n",
    "    for x in range(lenx):\n",
    "        tiles = max(tiles, path(grid, Ray(x, 0, Direction.S)))\n",
    "        tiles = max(tiles, path(grid, Ray(x, leny-1, Direction.N)))\n",
    "    for y in range(leny):\n",
    "        tiles = max(tiles, path(grid, Ray(0, y, Direction.E)))\n",
    "        tiles = max(tiles, path(grid, Ray(lenx-1, y, Direction.W)))\n",
    "    return tiles"
   ]
  },
  {
   "cell_type": "code",
   "execution_count": 41,
   "metadata": {},
   "outputs": [
    {
     "data": {
      "text/plain": [
       "51"
      ]
     },
     "execution_count": 41,
     "metadata": {},
     "output_type": "execute_result"
    }
   ],
   "source": [
    "part2(test)"
   ]
  },
  {
   "cell_type": "code",
   "execution_count": 42,
   "metadata": {},
   "outputs": [],
   "source": [
    "with open('output2', 'wt') as f:\n",
    "    f.write(str(part2(inp)))"
   ]
  },
  {
   "cell_type": "code",
   "execution_count": null,
   "metadata": {},
   "outputs": [],
   "source": []
  }
 ],
 "metadata": {
  "kernelspec": {
   "display_name": "usr",
   "language": "python",
   "name": "python3"
  },
  "language_info": {
   "codemirror_mode": {
    "name": "ipython",
    "version": 3
   },
   "file_extension": ".py",
   "mimetype": "text/x-python",
   "name": "python",
   "nbconvert_exporter": "python",
   "pygments_lexer": "ipython3",
   "version": "3.12.0"
  }
 },
 "nbformat": 4,
 "nbformat_minor": 2
}
