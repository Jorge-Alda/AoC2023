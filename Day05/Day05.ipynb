{
 "cells": [
  {
   "cell_type": "code",
   "execution_count": 1,
   "metadata": {},
   "outputs": [],
   "source": [
    "with open('test.txt', 'rt') as f:\n",
    "    test = f.read()"
   ]
  },
  {
   "cell_type": "code",
   "execution_count": 2,
   "metadata": {},
   "outputs": [],
   "source": [
    "with open('input', 'rt') as f:\n",
    "    inp = f.read().strip()"
   ]
  },
  {
   "cell_type": "code",
   "execution_count": 27,
   "metadata": {},
   "outputs": [],
   "source": [
    "class GardenMap:\n",
    "    def __init__(self, text: str):\n",
    "        t = text.split('\\n\\n')\n",
    "        self.seeds = tuple(map(int, t[0].split(': ')[1].split()))\n",
    "        self.routes = []\n",
    "        for r in t[1:]:\n",
    "            self.routes.append(list(map(lambda x: tuple(map(int, x)), map(lambda x: x.split(), r.split('\\n')[1:]))))\n",
    "\n",
    "    def step(self, route: int, val: int) -> int:\n",
    "        for r in self.routes[route]:\n",
    "            if (val >= r[1]) and (val < r[1] + r[2]):\n",
    "                return r[0] + val - r[1]\n",
    "        return val\n",
    "    \n",
    "    def follow(self, val: int) -> int:\n",
    "        x = val\n",
    "        for i in range(len(self.routes)):\n",
    "            x = self.step(i, x)\n",
    "        return x\n",
    "    \n",
    "    def part1(self) -> int:\n",
    "        locations = map(self.follow, self.seeds)\n",
    "        return min(locations)\n",
    "\n",
    "    def step_backwards(self, route: int, val: int) -> int:\n",
    "        for r in self.routes[route]:\n",
    "            if (val >= r[0]) and (val < r[0] + r[2]):\n",
    "                return r[1] + val - r[0]\n",
    "        return val\n",
    "    \n",
    "    def follow_backwards(self, val: int) -> int:\n",
    "        x = val\n",
    "        for i in reversed(range(len(self.routes))):\n",
    "            x = self.step_backwards(i, x)\n",
    "        return x\n",
    "\n",
    "    def in_seeds(self, val: int) -> bool:\n",
    "        for i in range(len(self.seeds)//2):\n",
    "            if val >= self.seeds[2*i] and val < self.seeds[2*i] + self.seeds[2*i+1]:\n",
    "                return True\n",
    "        return False\n",
    "    \n",
    "    def part2(self) -> int:\n",
    "        i = 0\n",
    "        while True:\n",
    "            if self.in_seeds(self.follow_backwards(i)):\n",
    "                return i\n",
    "            i += 1"
   ]
  },
  {
   "cell_type": "code",
   "execution_count": 28,
   "metadata": {},
   "outputs": [
    {
     "name": "stdout",
     "output_type": "stream",
     "text": [
      "35\n",
      "46\n"
     ]
    }
   ],
   "source": [
    "gm = GardenMap(test)\n",
    "print(gm.part1())\n",
    "print(gm.part2())"
   ]
  },
  {
   "cell_type": "code",
   "execution_count": 29,
   "metadata": {},
   "outputs": [],
   "source": [
    "gm_sol = GardenMap(inp)\n",
    "with open('output1', 'wt') as f:\n",
    "    f.write(str(gm_sol.part1()))"
   ]
  },
  {
   "cell_type": "code",
   "execution_count": 30,
   "metadata": {},
   "outputs": [],
   "source": [
    "with open('output2', 'wt') as f:\n",
    "    f.write(str(gm_sol.part2()))"
   ]
  },
  {
   "cell_type": "code",
   "execution_count": null,
   "metadata": {},
   "outputs": [],
   "source": []
  }
 ],
 "metadata": {
  "kernelspec": {
   "display_name": "usr",
   "language": "python",
   "name": "python3"
  },
  "language_info": {
   "codemirror_mode": {
    "name": "ipython",
    "version": 3
   },
   "file_extension": ".py",
   "mimetype": "text/x-python",
   "name": "python",
   "nbconvert_exporter": "python",
   "pygments_lexer": "ipython3",
   "version": "3.12.0"
  }
 },
 "nbformat": 4,
 "nbformat_minor": 2
}
