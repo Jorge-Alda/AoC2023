{
 "cells": [
  {
   "cell_type": "code",
   "execution_count": 5,
   "metadata": {},
   "outputs": [],
   "source": [
    "with open(\"test.txt\", \"rt\") as f:\n",
    "    test = f.readlines()"
   ]
  },
  {
   "cell_type": "code",
   "execution_count": 27,
   "metadata": {},
   "outputs": [],
   "source": [
    "with open(\"input\", \"rt\") as f:\n",
    "    inp = f.readlines()"
   ]
  },
  {
   "cell_type": "code",
   "execution_count": 2,
   "metadata": {},
   "outputs": [],
   "source": [
    "import re"
   ]
  },
  {
   "cell_type": "markdown",
   "metadata": {},
   "source": [
    "## Part 1"
   ]
  },
  {
   "cell_type": "code",
   "execution_count": 22,
   "metadata": {},
   "outputs": [],
   "source": [
    "max_red = 12\n",
    "max_green = 13\n",
    "max_blue = 14\n",
    "\n",
    "re_games = re.compile(r\"Game (\\d+)\")\n",
    "re_red = re.compile(r\"(\\d+) red\")\n",
    "re_green = re.compile(r\"(\\d+) green\")\n",
    "re_blue = re.compile(r\"(\\d+) blue\")"
   ]
  },
  {
   "cell_type": "code",
   "execution_count": 25,
   "metadata": {},
   "outputs": [],
   "source": [
    "def part1(games: list[str]) -> int:\n",
    "    tot = 0\n",
    "\n",
    "    for game in games:\n",
    "        gnum = int(re_games.findall(game)[0])\n",
    "        reds = re_red.findall(game)\n",
    "        greens = re_green.findall(game)\n",
    "        blues = re_blue.findall(game)\n",
    "        c_red = sum(1 for r in reds if int(r) > max_red)\n",
    "        c_green = sum(1 for r in greens if int(r) > max_green)\n",
    "        c_blue = sum(1 for r in blues if int(r) > max_blue)\n",
    "        if c_red + c_green + c_blue == 0:\n",
    "            tot += gnum\n",
    "    return tot"
   ]
  },
  {
   "cell_type": "code",
   "execution_count": 26,
   "metadata": {},
   "outputs": [
    {
     "data": {
      "text/plain": [
       "8"
      ]
     },
     "execution_count": 26,
     "metadata": {},
     "output_type": "execute_result"
    }
   ],
   "source": [
    "part1(test)"
   ]
  },
  {
   "cell_type": "code",
   "execution_count": 28,
   "metadata": {},
   "outputs": [],
   "source": [
    "with open(\"output1\", \"wt\") as f:\n",
    "    f.write(str(part1(inp)))"
   ]
  },
  {
   "cell_type": "markdown",
   "metadata": {},
   "source": [
    "## Part 2"
   ]
  },
  {
   "cell_type": "code",
   "execution_count": 33,
   "metadata": {},
   "outputs": [],
   "source": [
    "def part2(games: list[str]) -> int:\n",
    "    tot = 0\n",
    "\n",
    "    for game in games:\n",
    "        reds = re_red.findall(game)\n",
    "        greens = re_green.findall(game)\n",
    "        blues = re_blue.findall(game)\n",
    "        m_red = max(int(r) for r in reds)\n",
    "        m_green = max(int(r) for r in greens)\n",
    "        m_blue = max(int(r) for r in blues)\n",
    "        tot += m_red * m_green * m_blue\n",
    "    return tot"
   ]
  },
  {
   "cell_type": "code",
   "execution_count": 34,
   "metadata": {},
   "outputs": [
    {
     "data": {
      "text/plain": [
       "2286"
      ]
     },
     "execution_count": 34,
     "metadata": {},
     "output_type": "execute_result"
    }
   ],
   "source": [
    "part2(test)"
   ]
  },
  {
   "cell_type": "code",
   "execution_count": 35,
   "metadata": {},
   "outputs": [],
   "source": [
    "with open(\"output2\", \"wt\") as f:\n",
    "    f.write(str(part2(inp)))"
   ]
  },
  {
   "cell_type": "code",
   "execution_count": null,
   "metadata": {},
   "outputs": [],
   "source": []
  }
 ],
 "metadata": {
  "kernelspec": {
   "display_name": "usr",
   "language": "python",
   "name": "python3"
  },
  "language_info": {
   "codemirror_mode": {
    "name": "ipython",
    "version": 3
   },
   "file_extension": ".py",
   "mimetype": "text/x-python",
   "name": "python",
   "nbconvert_exporter": "python",
   "pygments_lexer": "ipython3",
   "version": "3.12.0"
  }
 },
 "nbformat": 4,
 "nbformat_minor": 2
}
