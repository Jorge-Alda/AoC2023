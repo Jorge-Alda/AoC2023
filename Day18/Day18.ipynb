{
 "cells": [
  {
   "cell_type": "code",
   "execution_count": 1,
   "metadata": {},
   "outputs": [],
   "source": [
    "from enum import Enum"
   ]
  },
  {
   "cell_type": "code",
   "execution_count": 3,
   "metadata": {},
   "outputs": [],
   "source": [
    "class Direction(Enum):\n",
    "    Right = 'R'\n",
    "    Left = 'L'\n",
    "    Up = 'U'\n",
    "    Down = 'D'"
   ]
  },
  {
   "cell_type": "code",
   "execution_count": 6,
   "metadata": {},
   "outputs": [],
   "source": [
    "with open('test.txt', 'rt') as f:\n",
    "    test = f.readlines()"
   ]
  },
  {
   "cell_type": "code",
   "execution_count": 16,
   "metadata": {},
   "outputs": [],
   "source": [
    "with open('input', 'rt') as f:\n",
    "    inp = f.readlines()"
   ]
  },
  {
   "cell_type": "code",
   "execution_count": 81,
   "metadata": {},
   "outputs": [],
   "source": [
    "def frontier(digplan: list[str]) -> list[tuple[int, int]]:\n",
    "    frontier: list[tuple[int, int]] = []\n",
    "    current = (0, 0)\n",
    "    for l in digplan:\n",
    "        d, n, _ = l.split(' ')\n",
    "        for _ in range(int(n)):\n",
    "            match Direction(d):\n",
    "                case Direction.Right:\n",
    "                    current = (current[0]+1, current[1])\n",
    "                case Direction.Left:\n",
    "                    current = (current[0]-1, current[1])\n",
    "                case Direction.Up:\n",
    "                    current = (current[0], current[1]-1)\n",
    "                case Direction.Down:\n",
    "                    current = (current[0], current[1]+1)\n",
    "            frontier.append(current)\n",
    "    return frontier\n"
   ]
  },
  {
   "cell_type": "code",
   "execution_count": 82,
   "metadata": {},
   "outputs": [],
   "source": [
    "def paint(points: list[list[tuple[int, int]]], fill: list[str]):\n",
    "    minx = min(min(x[0] for x in p) for p in points)\n",
    "    miny = min(min(x[1] for x in p) for p in points)\n",
    "    maxx = max(max(x[0] for x in p) for p in points)\n",
    "    maxy = max(max(x[1] for x in p) for p in points)\n",
    "    for y in range(miny, maxy+1):\n",
    "        r = ''\n",
    "        for x in range(minx, maxx+1):\n",
    "            rn = ' '\n",
    "            for i in range(len(points)):\n",
    "                if (x, y) in points[i]:\n",
    "                    rn = fill[i]\n",
    "            r += rn\n",
    "        print(r)"
   ]
  },
  {
   "cell_type": "code",
   "execution_count": 83,
   "metadata": {},
   "outputs": [
    {
     "name": "stdout",
     "output_type": "stream",
     "text": [
      "#######\n",
      "#     #\n",
      "###   #\n",
      "  #   #\n",
      "  #   #\n",
      "### ###\n",
      "#   #  \n",
      "##  ###\n",
      " #    #\n",
      " ######\n"
     ]
    }
   ],
   "source": [
    "paint([frontier(test),], ['#'])"
   ]
  },
  {
   "cell_type": "code",
   "execution_count": 78,
   "metadata": {},
   "outputs": [],
   "source": [
    "def shoelace(lpoints: list[tuple[int, int]]) -> float:\n",
    "    area = 0\n",
    "    for i in range(len(lpoints)-1):\n",
    "        area += lpoints[i][0] * lpoints[i+1][1] - lpoints[i][1] * lpoints[i+1][0]\n",
    "    area += lpoints[-1][0] * lpoints[0][1] - lpoints[-1][1] * lpoints[0][1]\n",
    "    return area/2"
   ]
  },
  {
   "cell_type": "code",
   "execution_count": 86,
   "metadata": {},
   "outputs": [],
   "source": [
    "def part1(digplan: list[str]) -> int:\n",
    "    fr = frontier(digplan)\n",
    "    return int(shoelace(fr) + len(fr)/2 + 1)"
   ]
  },
  {
   "cell_type": "code",
   "execution_count": 87,
   "metadata": {},
   "outputs": [
    {
     "data": {
      "text/plain": [
       "62"
      ]
     },
     "execution_count": 87,
     "metadata": {},
     "output_type": "execute_result"
    }
   ],
   "source": [
    "part1(test)"
   ]
  },
  {
   "cell_type": "code",
   "execution_count": 88,
   "metadata": {},
   "outputs": [],
   "source": [
    "with open('output1', 'wt') as f:\n",
    "    f.write(str(part1(inp)))"
   ]
  },
  {
   "cell_type": "code",
   "execution_count": null,
   "metadata": {},
   "outputs": [],
   "source": []
  }
 ],
 "metadata": {
  "kernelspec": {
   "display_name": "usr",
   "language": "python",
   "name": "python3"
  },
  "language_info": {
   "codemirror_mode": {
    "name": "ipython",
    "version": 3
   },
   "file_extension": ".py",
   "mimetype": "text/x-python",
   "name": "python",
   "nbconvert_exporter": "python",
   "pygments_lexer": "ipython3",
   "version": "3.12.0"
  }
 },
 "nbformat": 4,
 "nbformat_minor": 2
}
