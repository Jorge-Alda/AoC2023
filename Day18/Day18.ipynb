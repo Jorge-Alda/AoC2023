{
 "cells": [
  {
   "cell_type": "code",
   "execution_count": 2,
   "metadata": {},
   "outputs": [],
   "source": [
    "from enum import Enum"
   ]
  },
  {
   "cell_type": "code",
   "execution_count": 3,
   "metadata": {},
   "outputs": [],
   "source": [
    "class Direction(Enum):\n",
    "    Right = 'R'\n",
    "    Left = 'L'\n",
    "    Up = 'U'\n",
    "    Down = 'D'"
   ]
  },
  {
   "cell_type": "code",
   "execution_count": 4,
   "metadata": {},
   "outputs": [],
   "source": [
    "with open('test.txt', 'rt') as f:\n",
    "    test = f.readlines()"
   ]
  },
  {
   "cell_type": "code",
   "execution_count": 5,
   "metadata": {},
   "outputs": [],
   "source": [
    "with open('input', 'rt') as f:\n",
    "    inp = f.readlines()"
   ]
  },
  {
   "cell_type": "code",
   "execution_count": 18,
   "metadata": {},
   "outputs": [],
   "source": [
    "def frontier(digplan: list[str]) -> list[tuple[int, int]]:\n",
    "    frontier: list[tuple[int, int]] = []\n",
    "    current = (0, 0)\n",
    "    for l in digplan:\n",
    "        d, n, _ = l.split(' ')\n",
    "        n = int(n)\n",
    "        match Direction(d):\n",
    "            case Direction.Right:\n",
    "                current = (current[0]+n, current[1])\n",
    "            case Direction.Left:\n",
    "                current = (current[0]-n, current[1])\n",
    "            case Direction.Up:\n",
    "                current = (current[0], current[1]-n)\n",
    "            case Direction.Down:\n",
    "                current = (current[0], current[1]+n)\n",
    "        frontier.append(current)\n",
    "    return frontier\n"
   ]
  },
  {
   "cell_type": "code",
   "execution_count": 16,
   "metadata": {},
   "outputs": [],
   "source": [
    "def paint(points: list[list[tuple[int, int]]], fill: list[str]):\n",
    "    minx = min(min(x[0] for x in p) for p in points)\n",
    "    miny = min(min(x[1] for x in p) for p in points)\n",
    "    maxx = max(max(x[0] for x in p) for p in points)\n",
    "    maxy = max(max(x[1] for x in p) for p in points)\n",
    "    for y in range(miny, maxy+1):\n",
    "        r = ''\n",
    "        for x in range(minx, maxx+1):\n",
    "            rn = ' '\n",
    "            for i in range(len(points)):\n",
    "                if (x, y) in points[i]:\n",
    "                    rn = fill[i]\n",
    "            r += rn\n",
    "        print(r)"
   ]
  },
  {
   "cell_type": "code",
   "execution_count": 19,
   "metadata": {},
   "outputs": [
    {
     "name": "stdout",
     "output_type": "stream",
     "text": [
      "#     #\n",
      "       \n",
      "# #    \n",
      "       \n",
      "       \n",
      "# # # #\n",
      "       \n",
      "##  # #\n",
      "       \n",
      " #    #\n"
     ]
    }
   ],
   "source": [
    "paint([frontier(test),], ['#'])"
   ]
  },
  {
   "cell_type": "code",
   "execution_count": 20,
   "metadata": {},
   "outputs": [],
   "source": [
    "def shoelace(lpoints: list[tuple[int, int]]) -> float:\n",
    "    area = 0\n",
    "    for i in range(len(lpoints)-1):\n",
    "        area += lpoints[i][0] * lpoints[i+1][1] - lpoints[i][1] * lpoints[i+1][0]\n",
    "    area += lpoints[-1][0] * lpoints[0][1] - lpoints[-1][1] * lpoints[0][1]\n",
    "    return area/2"
   ]
  },
  {
   "cell_type": "code",
   "execution_count": 23,
   "metadata": {},
   "outputs": [],
   "source": [
    "def perimeter(lpoints: list[tuple[int, int]]) -> float:\n",
    "    per = 0\n",
    "    for i in range(len(lpoints)-1):\n",
    "        per += abs(lpoints[i][0] - lpoints[i+1][0]) + abs(lpoints[i][1] - lpoints[i+1][1])\n",
    "    per += abs(lpoints[0][0] - lpoints[-1][0]) + abs(lpoints[0][1] - lpoints[-1][1])\n",
    "    return per"
   ]
  },
  {
   "cell_type": "code",
   "execution_count": 24,
   "metadata": {},
   "outputs": [],
   "source": [
    "def part1(digplan: list[str]) -> int:\n",
    "    fr = frontier(digplan)\n",
    "    return int(shoelace(fr) + perimeter(fr)/2 + 1)"
   ]
  },
  {
   "cell_type": "code",
   "execution_count": 25,
   "metadata": {},
   "outputs": [
    {
     "data": {
      "text/plain": [
       "62"
      ]
     },
     "execution_count": 25,
     "metadata": {},
     "output_type": "execute_result"
    }
   ],
   "source": [
    "part1(test)"
   ]
  },
  {
   "cell_type": "code",
   "execution_count": 26,
   "metadata": {},
   "outputs": [],
   "source": [
    "with open('output1', 'wt') as f:\n",
    "    f.write(str(part1(inp)))"
   ]
  },
  {
   "cell_type": "code",
   "execution_count": 31,
   "metadata": {},
   "outputs": [],
   "source": [
    "def decode(hexcode: str) -> str:\n",
    "    _, code = hexcode.replace(')', '').strip().split('#')\n",
    "    match code[-1]:\n",
    "        case '0':\n",
    "            r = 'R '\n",
    "        case '1':\n",
    "            r = 'D '\n",
    "        case '2':\n",
    "            r = 'L '\n",
    "        case _:\n",
    "            r = 'U '\n",
    "    return r + str(int(code[:-1], 16)) + ' '"
   ]
  },
  {
   "cell_type": "code",
   "execution_count": 32,
   "metadata": {},
   "outputs": [
    {
     "data": {
      "text/plain": [
       "['R 461937 ',\n",
       " 'D 56407 ',\n",
       " 'R 356671 ',\n",
       " 'D 863240 ',\n",
       " 'R 367720 ',\n",
       " 'D 266681 ',\n",
       " 'L 577262 ',\n",
       " 'U 829975 ',\n",
       " 'L 112010 ',\n",
       " 'D 829975 ',\n",
       " 'L 491645 ',\n",
       " 'U 686074 ',\n",
       " 'L 5411 ',\n",
       " 'U 500254 ']"
      ]
     },
     "execution_count": 32,
     "metadata": {},
     "output_type": "execute_result"
    }
   ],
   "source": [
    "[decode(l) for l in test]"
   ]
  },
  {
   "cell_type": "code",
   "execution_count": 33,
   "metadata": {},
   "outputs": [],
   "source": [
    "def part2(digplan: list[str]) -> int:\n",
    "    instructions = [decode(l) for l in digplan]\n",
    "    return part1(instructions)"
   ]
  },
  {
   "cell_type": "code",
   "execution_count": 34,
   "metadata": {},
   "outputs": [
    {
     "data": {
      "text/plain": [
       "952408144115"
      ]
     },
     "execution_count": 34,
     "metadata": {},
     "output_type": "execute_result"
    }
   ],
   "source": [
    "part2(test)"
   ]
  },
  {
   "cell_type": "code",
   "execution_count": 35,
   "metadata": {},
   "outputs": [],
   "source": [
    "with open('output2', 'wt') as f:\n",
    "    f.write(str(part2(inp)))"
   ]
  },
  {
   "cell_type": "code",
   "execution_count": null,
   "metadata": {},
   "outputs": [],
   "source": []
  }
 ],
 "metadata": {
  "kernelspec": {
   "display_name": "usr",
   "language": "python",
   "name": "python3"
  },
  "language_info": {
   "codemirror_mode": {
    "name": "ipython",
    "version": 3
   },
   "file_extension": ".py",
   "mimetype": "text/x-python",
   "name": "python",
   "nbconvert_exporter": "python",
   "pygments_lexer": "ipython3",
   "version": "3.12.0"
  }
 },
 "nbformat": 4,
 "nbformat_minor": 2
}
