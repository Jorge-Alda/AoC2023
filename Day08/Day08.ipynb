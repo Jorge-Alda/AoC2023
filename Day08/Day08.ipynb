{
 "cells": [
  {
   "cell_type": "code",
   "execution_count": 1,
   "metadata": {},
   "outputs": [],
   "source": [
    "with open(\"test1.txt\", \"rt\") as f:\n",
    "    test1 = f.readlines()"
   ]
  },
  {
   "cell_type": "code",
   "execution_count": 17,
   "metadata": {},
   "outputs": [],
   "source": [
    "with open(\"test2.txt\", \"rt\") as f:\n",
    "    test2 = f.readlines()"
   ]
  },
  {
   "cell_type": "code",
   "execution_count": 1,
   "metadata": {},
   "outputs": [],
   "source": [
    "with open(\"input\", \"rt\") as f:\n",
    "    inp = f.readlines()"
   ]
  },
  {
   "cell_type": "code",
   "execution_count": 35,
   "metadata": {},
   "outputs": [],
   "source": [
    "def part1(text: list[str]) -> int:\n",
    "    dirs = text[0].strip()\n",
    "    desert = {}\n",
    "    for l in text[2:]:\n",
    "        desert.update({l[0:3]: (l[7:10], l[12:15])})\n",
    "    steps = 0\n",
    "    pos = 'AAA'\n",
    "    while 1:\n",
    "        if dirs[steps%len(dirs)] == 'L':\n",
    "            pos = desert[pos][0]\n",
    "        else:\n",
    "            pos = desert[pos][1]\n",
    "        steps += 1\n",
    "        if pos == 'ZZZ':\n",
    "            return steps"
   ]
  },
  {
   "cell_type": "code",
   "execution_count": 36,
   "metadata": {},
   "outputs": [
    {
     "data": {
      "text/plain": [
       "2"
      ]
     },
     "execution_count": 36,
     "metadata": {},
     "output_type": "execute_result"
    }
   ],
   "source": [
    "part1(test1)"
   ]
  },
  {
   "cell_type": "code",
   "execution_count": 37,
   "metadata": {},
   "outputs": [
    {
     "data": {
      "text/plain": [
       "6"
      ]
     },
     "execution_count": 37,
     "metadata": {},
     "output_type": "execute_result"
    }
   ],
   "source": [
    "part1(test2)"
   ]
  },
  {
   "cell_type": "code",
   "execution_count": 39,
   "metadata": {},
   "outputs": [],
   "source": [
    "with open(\"output1\", \"wt\") as f:\n",
    "    f.write(str(part1(inp)))"
   ]
  },
  {
   "cell_type": "markdown",
   "metadata": {},
   "source": [
    "## Part 2"
   ]
  },
  {
   "cell_type": "code",
   "execution_count": 37,
   "metadata": {},
   "outputs": [],
   "source": [
    "dirs = inp[0].strip()\n",
    "desert = {}\n",
    "for l in inp[2:]:\n",
    "        desert.update({l[0:3]: (l[7:10], l[12:15])})\n",
    "\n",
    "starts = [k for k in desert.keys() if k[-1] == 'A']"
   ]
  },
  {
   "cell_type": "code",
   "execution_count": 4,
   "metadata": {},
   "outputs": [
    {
     "data": {
      "text/plain": [
       "271"
      ]
     },
     "execution_count": 4,
     "metadata": {},
     "output_type": "execute_result"
    }
   ],
   "source": [
    "len(dirs)"
   ]
  },
  {
   "cell_type": "code",
   "execution_count": 6,
   "metadata": {},
   "outputs": [
    {
     "data": {
      "text/plain": [
       "['LPA', 'XKA', 'QGA', 'AAA', 'HHA', 'LTA']"
      ]
     },
     "execution_count": 6,
     "metadata": {},
     "output_type": "execute_result"
    }
   ],
   "source": [
    "starts"
   ]
  },
  {
   "cell_type": "code",
   "execution_count": 24,
   "metadata": {},
   "outputs": [
    {
     "name": "stdout",
     "output_type": "stream",
     "text": [
      "{'BRZ': [12194, 30351, 48508]}\n",
      "{'QSZ': [2709, 14362, 26015, 37668, 49321, 60974]}\n",
      "{'MCZ': [1896, 23305, 44714]}\n",
      "{'ZZZ': [4606, 17343, 30080, 42817, 55554]}\n",
      "{'LRZ': [2438, 16801, 31164, 45527, 59890]}\n",
      "{'BKZ': [7316, 23305, 39294, 55283]}\n"
     ]
    }
   ],
   "source": [
    "for s in starts:\n",
    "    pos = s\n",
    "    d = {}\n",
    "    for i in range(1, 65000):\n",
    "        if dirs[i%len(dirs)] == 'L':\n",
    "            pos = desert[pos][0]\n",
    "        else:\n",
    "            pos = desert[pos][1]\n",
    "        if pos[-1] == 'Z':\n",
    "            if pos in d.keys():\n",
    "                d[pos].append(i)\n",
    "            else:\n",
    "                d[pos] = [i,]\n",
    "    print(d)"
   ]
  },
  {
   "cell_type": "markdown",
   "metadata": {},
   "source": [
    "* Every ghost only visits one Z-node\n",
    "* Periodic\n",
    "* Every frequency is divisible by 271 (the frequency of the direction tape),\n",
    "* and also the first occurrence of Z-node,\n",
    "* so we van work just by whole tapes without skipping any Z-node"
   ]
  },
  {
   "cell_type": "code",
   "execution_count": 70,
   "metadata": {},
   "outputs": [
    {
     "name": "stdout",
     "output_type": "stream",
     "text": [
      "67\t67\n",
      "43\t43\n",
      "79\t79\n",
      "47\t47\n",
      "53\t53\n",
      "59\t59\n"
     ]
    }
   ],
   "source": [
    "p0 = []\n",
    "freq = []\n",
    "\n",
    "for s in starts:\n",
    "    pos = s\n",
    "    d = []\n",
    "    for i in range(1, 300):\n",
    "        for j in range(len(dirs)):\n",
    "            if dirs[j] == 'L':\n",
    "                pos = desert[pos][0]\n",
    "            else:\n",
    "                pos = desert[pos][1]\n",
    "        if pos[-1] == 'Z':\n",
    "            d.append(i)\n",
    "    print(f'{d[0]}\\t{d[1]-d[0]}')\n",
    "    p0.append(d[0])\n",
    "    freq.append(d[1]-d[0])"
   ]
  },
  {
   "cell_type": "code",
   "execution_count": 41,
   "metadata": {},
   "outputs": [
    {
     "data": {
      "text/plain": [
       "[67, 43, 79, 47, 53, 59]"
      ]
     },
     "execution_count": 41,
     "metadata": {},
     "output_type": "execute_result"
    }
   ],
   "source": [
    "freq"
   ]
  },
  {
   "cell_type": "markdown",
   "metadata": {},
   "source": [
    "All the Z-nodes are found after an exact period (no Chinese Remainder Theorem), and all the frequencies are primes, so their LCM is their product:"
   ]
  },
  {
   "cell_type": "code",
   "execution_count": 73,
   "metadata": {},
   "outputs": [
    {
     "name": "stdout",
     "output_type": "stream",
     "text": [
      "9064949303801\n"
     ]
    }
   ],
   "source": [
    "p = len(dirs)\n",
    "for f in freq:\n",
    "    p *= f\n",
    "print(p)"
   ]
  },
  {
   "cell_type": "code",
   "execution_count": null,
   "metadata": {},
   "outputs": [],
   "source": []
  }
 ],
 "metadata": {
  "kernelspec": {
   "display_name": "usr",
   "language": "python",
   "name": "python3"
  },
  "language_info": {
   "codemirror_mode": {
    "name": "ipython",
    "version": 3
   },
   "file_extension": ".py",
   "mimetype": "text/x-python",
   "name": "python",
   "nbconvert_exporter": "python",
   "pygments_lexer": "ipython3",
   "version": "3.12.0"
  }
 },
 "nbformat": 4,
 "nbformat_minor": 2
}
