{
 "cells": [
  {
   "cell_type": "code",
   "execution_count": 22,
   "metadata": {},
   "outputs": [],
   "source": [
    "from math import ceil, floor"
   ]
  },
  {
   "cell_type": "code",
   "execution_count": 1,
   "metadata": {},
   "outputs": [],
   "source": [
    "with open(\"test.txt\", \"rt\") as f:\n",
    "    test = f.readlines()"
   ]
  },
  {
   "cell_type": "code",
   "execution_count": 37,
   "metadata": {},
   "outputs": [],
   "source": [
    "with open(\"input\", \"rt\") as f:\n",
    "    inp = f.readlines()"
   ]
  },
  {
   "cell_type": "code",
   "execution_count": 35,
   "metadata": {},
   "outputs": [],
   "source": [
    "def part1(text: list[str]) -> int:\n",
    "    eps = 1e-6\n",
    "    tot = 1\n",
    "    time = map(int, text[0].split(': ')[1].split())\n",
    "    dist = map(int, text[1].split(': ')[1].split())\n",
    "    for t, d in zip(time, dist):\n",
    "        tmin = ceil((t-(t**2-4*d)**0.5)/2+eps)\n",
    "        tmax = floor((t+(t**2-4*d)**0.5)/2-eps)\n",
    "        dt = tmax-tmin+1\n",
    "        tot *= dt\n",
    "    return tot"
   ]
  },
  {
   "cell_type": "code",
   "execution_count": 36,
   "metadata": {},
   "outputs": [
    {
     "data": {
      "text/plain": [
       "288"
      ]
     },
     "execution_count": 36,
     "metadata": {},
     "output_type": "execute_result"
    }
   ],
   "source": [
    "part1(test)"
   ]
  },
  {
   "cell_type": "code",
   "execution_count": 38,
   "metadata": {},
   "outputs": [],
   "source": [
    "with open(\"output1\", \"wt\") as f:\n",
    "    f.write(str(part1(inp)))"
   ]
  },
  {
   "cell_type": "code",
   "execution_count": 39,
   "metadata": {},
   "outputs": [],
   "source": [
    "def part2(text: list[str]) -> int:\n",
    "    eps = 1e-6\n",
    "    t = int(text[0].split(': ')[1].replace(' ', ''))\n",
    "    d = int(text[1].split(': ')[1].replace(' ', ''))\n",
    "    tmin = ceil((t-(t**2-4*d)**0.5)/2+eps)\n",
    "    tmax = floor((t+(t**2-4*d)**0.5)/2-eps)\n",
    "    return tmax-tmin+1"
   ]
  },
  {
   "cell_type": "code",
   "execution_count": 40,
   "metadata": {},
   "outputs": [
    {
     "data": {
      "text/plain": [
       "71503"
      ]
     },
     "execution_count": 40,
     "metadata": {},
     "output_type": "execute_result"
    }
   ],
   "source": [
    "part2(test)"
   ]
  },
  {
   "cell_type": "code",
   "execution_count": 41,
   "metadata": {},
   "outputs": [],
   "source": [
    "with open(\"output2\", \"wt\") as f:\n",
    "    f.write(str(part2(inp)))"
   ]
  },
  {
   "cell_type": "code",
   "execution_count": null,
   "metadata": {},
   "outputs": [],
   "source": []
  }
 ],
 "metadata": {
  "kernelspec": {
   "display_name": "usr",
   "language": "python",
   "name": "python3"
  },
  "language_info": {
   "codemirror_mode": {
    "name": "ipython",
    "version": 3
   },
   "file_extension": ".py",
   "mimetype": "text/x-python",
   "name": "python",
   "nbconvert_exporter": "python",
   "pygments_lexer": "ipython3",
   "version": "3.12.0"
  }
 },
 "nbformat": 4,
 "nbformat_minor": 2
}
