{
 "cells": [
  {
   "cell_type": "code",
   "execution_count": 7,
   "metadata": {},
   "outputs": [],
   "source": [
    "import re"
   ]
  },
  {
   "cell_type": "code",
   "execution_count": 8,
   "metadata": {},
   "outputs": [],
   "source": [
    "def parse_part(p: str) -> dict[str,int]:\n",
    "    regex = re.compile(r\"\\{x=([0-9]+),m=([0-9]+),a=([0-9]+),s=([0-9]+)\\}\")\n",
    "    m = regex.match(p)\n",
    "    g = m.groups()\n",
    "    return {'x': int(g[0]), 'm': int(g[1]), 'a': int(g[2]), 's': int(g[3])}"
   ]
  },
  {
   "cell_type": "code",
   "execution_count": 9,
   "metadata": {},
   "outputs": [
    {
     "data": {
      "text/plain": [
       "{'x': 787, 'm': 2655, 'a': 1222, 's': 2876}"
      ]
     },
     "execution_count": 9,
     "metadata": {},
     "output_type": "execute_result"
    }
   ],
   "source": [
    "parse_part(r\"{x=787,m=2655,a=1222,s=2876}\")"
   ]
  },
  {
   "cell_type": "code",
   "execution_count": 10,
   "metadata": {},
   "outputs": [],
   "source": [
    "def parse_wf(wf: str) -> dict[str, list[tuple[None|tuple[str, str, int], str]]]:\n",
    "    re1 = re.compile(r\"([a-z]+)\\{(([xmas][<>][0-9]+:[a-zAR]+,)+)([a-zAR]+)\\}\")\n",
    "    m1 = re1.match(wf)\n",
    "    g1 = m1.groups()\n",
    "    tag = g1[0]\n",
    "    default = g1[-1]\n",
    "    conditionals = g1[1]\n",
    "    results = []\n",
    "    re2 = re.compile(r\"([xmas])([<>])([0-9]+):([a-zAR]+),?\")\n",
    "    m2 = re2.findall(conditionals)\n",
    "    for m in m2:\n",
    "        results.append(((m[0], 2*int(m[1]=='>')-1, int(m[2])) , m[3]))\n",
    "    results.append((None, default))\n",
    "    return {tag: results}"
   ]
  },
  {
   "cell_type": "code",
   "execution_count": 11,
   "metadata": {},
   "outputs": [
    {
     "data": {
      "text/plain": [
       "{'qqz': [(('s', 1, 2770), 'qs'), (('m', -1, 1801), 'hdj'), (None, 'R')]}"
      ]
     },
     "execution_count": 11,
     "metadata": {},
     "output_type": "execute_result"
    }
   ],
   "source": [
    "parse_wf(\"qqz{s>2770:qs,m<1801:hdj,R}\")"
   ]
  },
  {
   "cell_type": "code",
   "execution_count": 12,
   "metadata": {},
   "outputs": [],
   "source": [
    "def follow_wf(part: dict[str, int], tag: str, wf: dict[str, list[tuple[None|tuple[str, str, int], str]]], debug = False) -> int:\n",
    "    conds = wf[tag]\n",
    "    if debug:\n",
    "        print(tag)\n",
    "    for c in conds:\n",
    "        if c[0] is None or (part[c[0][0]] - c[0][2])*c[0][1] > 0:\n",
    "            if c[1] == 'R':\n",
    "                return 0\n",
    "            elif c[1] == 'A':\n",
    "                return sum(x for x in part.values())\n",
    "            else:\n",
    "                return follow_wf(part, c[1], wf, debug)"
   ]
  },
  {
   "cell_type": "code",
   "execution_count": 13,
   "metadata": {},
   "outputs": [],
   "source": [
    "with open('test.txt', 'rt') as f:\n",
    "    test = f.read()\n",
    "\n",
    "def parse_input(text: str):\n",
    "    wf, parts = text.split('\\n\\n')\n",
    "    wf_dict = {}\n",
    "    for w in wf.split('\\n'):\n",
    "        wf_dict |= parse_wf(w)\n",
    "    p = [parse_part(i.strip()) for i in parts.strip().split('\\n')]\n",
    "    return wf_dict, p"
   ]
  },
  {
   "cell_type": "code",
   "execution_count": 14,
   "metadata": {},
   "outputs": [],
   "source": [
    "wf, parts = parse_input(test)"
   ]
  },
  {
   "cell_type": "code",
   "execution_count": 15,
   "metadata": {},
   "outputs": [
    {
     "name": "stdout",
     "output_type": "stream",
     "text": [
      "in\n",
      "qqz\n",
      "qs\n",
      "lnx\n"
     ]
    },
    {
     "data": {
      "text/plain": [
       "7540"
      ]
     },
     "execution_count": 15,
     "metadata": {},
     "output_type": "execute_result"
    }
   ],
   "source": [
    "follow_wf(parts[0], 'in', wf, True)"
   ]
  },
  {
   "cell_type": "code",
   "execution_count": 16,
   "metadata": {},
   "outputs": [
    {
     "name": "stdout",
     "output_type": "stream",
     "text": [
      "in\n",
      "px\n",
      "rfg\n",
      "gd\n"
     ]
    },
    {
     "data": {
      "text/plain": [
       "0"
      ]
     },
     "execution_count": 16,
     "metadata": {},
     "output_type": "execute_result"
    }
   ],
   "source": [
    "follow_wf(parts[1], 'in', wf, True)"
   ]
  },
  {
   "cell_type": "code",
   "execution_count": 17,
   "metadata": {},
   "outputs": [
    {
     "name": "stdout",
     "output_type": "stream",
     "text": [
      "in\n",
      "qqz\n",
      "hdj\n",
      "pv\n"
     ]
    },
    {
     "data": {
      "text/plain": [
       "4623"
      ]
     },
     "execution_count": 17,
     "metadata": {},
     "output_type": "execute_result"
    }
   ],
   "source": [
    "follow_wf(parts[2], 'in', wf, True)"
   ]
  },
  {
   "cell_type": "code",
   "execution_count": 18,
   "metadata": {},
   "outputs": [],
   "source": [
    "def part1(text: str) -> int:\n",
    "    wf, parts = parse_input(text)\n",
    "    return sum(follow_wf(p, 'in', wf) for p in parts)"
   ]
  },
  {
   "cell_type": "code",
   "execution_count": 19,
   "metadata": {},
   "outputs": [
    {
     "data": {
      "text/plain": [
       "19114"
      ]
     },
     "execution_count": 19,
     "metadata": {},
     "output_type": "execute_result"
    }
   ],
   "source": [
    "part1(test)"
   ]
  },
  {
   "cell_type": "code",
   "execution_count": 20,
   "metadata": {},
   "outputs": [],
   "source": [
    "with open('input', 'rt') as f:\n",
    "    inp = f.read()"
   ]
  },
  {
   "cell_type": "code",
   "execution_count": 21,
   "metadata": {},
   "outputs": [],
   "source": [
    "with open('output1', 'wt') as f:\n",
    "    f.write(str(part1(inp)))"
   ]
  },
  {
   "cell_type": "code",
   "execution_count": 52,
   "metadata": {},
   "outputs": [],
   "source": [
    "def vol(cube: dict[str: tuple[int, int]]) -> int:\n",
    "    return (cube['x'][1]-cube['x'][0]+1)*(cube['m'][1]-cube['m'][0]+1)*(cube['a'][1]-cube['a'][0]+1)*(cube['s'][1]-cube['s'][0]+1)"
   ]
  },
  {
   "cell_type": "code",
   "execution_count": 53,
   "metadata": {},
   "outputs": [],
   "source": [
    "def follow_cube(cube: dict[str, tuple[int,int]], tag: str, wf: dict[str, list[tuple[None|tuple[str, str, int], str]]]) -> int:\n",
    "    conds = wf[tag]\n",
    "    s = 0\n",
    "    for c in conds:\n",
    "        if c[0] is None:\n",
    "            if c[1] == 'R':\n",
    "                s += 0\n",
    "            elif c[1] == 'A':\n",
    "                s += vol(cube)\n",
    "            else:\n",
    "                s += follow_cube(cube, c[1], wf)\n",
    "        else:\n",
    "            coord = c[0][0]\n",
    "            val = c[0][2]\n",
    "            if cube[coord][1] < val:\n",
    "                if c[0][1] == -1:\n",
    "                    if c[1] == 'R':\n",
    "                        s += 0\n",
    "                    elif c[1] == 'A':\n",
    "                        s += vol(cube)\n",
    "                    else:\n",
    "                        s += follow_cube(cube, c[1], wf)\n",
    "            elif cube[coord][0] > val:\n",
    "                if c[0][1] == 1:\n",
    "                    if c[1] == 'R':\n",
    "                        s += 0\n",
    "                    elif c[1] == 'A':\n",
    "                        s += vol(cube)\n",
    "                    else:\n",
    "                        s += follow_cube(cube, c[1], wf)\n",
    "            else:\n",
    "                cube_c = cube.copy()\n",
    "                if c[0][1] == 1:\n",
    "                    cube_c[coord] = (val+1, cube[coord][1])\n",
    "                    cube[coord] = (cube[coord][0], val)\n",
    "                else:\n",
    "                    cube_c[coord] = (cube[coord][0], val-1)\n",
    "                    cube[coord] = (val, cube[coord][1])\n",
    "                if c[1] == 'R':\n",
    "                    s += 0\n",
    "                elif c[1] == 'A':\n",
    "                    s += vol(cube_c)\n",
    "                else:\n",
    "                    s += follow_cube(cube_c, c[1], wf)\n",
    "    return s"
   ]
  },
  {
   "cell_type": "code",
   "execution_count": 56,
   "metadata": {},
   "outputs": [],
   "source": [
    "def part2(text: str) -> int:\n",
    "    wf, _ = parse_input(text)\n",
    "    return follow_cube({i: (1, 4000) for i in 'xmas'}, 'in', wf)"
   ]
  },
  {
   "cell_type": "code",
   "execution_count": 57,
   "metadata": {},
   "outputs": [
    {
     "data": {
      "text/plain": [
       "167409079868000"
      ]
     },
     "execution_count": 57,
     "metadata": {},
     "output_type": "execute_result"
    }
   ],
   "source": [
    "part2(test)"
   ]
  },
  {
   "cell_type": "code",
   "execution_count": 58,
   "metadata": {},
   "outputs": [],
   "source": [
    "with open('output2', 'wt') as f:\n",
    "    f.write(str(part2(inp)))"
   ]
  },
  {
   "cell_type": "code",
   "execution_count": null,
   "metadata": {},
   "outputs": [],
   "source": []
  }
 ],
 "metadata": {
  "kernelspec": {
   "display_name": "usr",
   "language": "python",
   "name": "python3"
  },
  "language_info": {
   "codemirror_mode": {
    "name": "ipython",
    "version": 3
   },
   "file_extension": ".py",
   "mimetype": "text/x-python",
   "name": "python",
   "nbconvert_exporter": "python",
   "pygments_lexer": "ipython3",
   "version": "3.12.0"
  }
 },
 "nbformat": 4,
 "nbformat_minor": 2
}
