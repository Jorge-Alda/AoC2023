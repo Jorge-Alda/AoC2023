{
 "cells": [
  {
   "cell_type": "code",
   "execution_count": 1,
   "metadata": {},
   "outputs": [],
   "source": [
    "with open(\"test.txt\", \"rt\") as f:\n",
    "    test = f.readlines()"
   ]
  },
  {
   "cell_type": "code",
   "execution_count": 12,
   "metadata": {},
   "outputs": [],
   "source": [
    "with open(\"input\", \"rt\") as f:\n",
    "    inp = f.readlines()"
   ]
  },
  {
   "cell_type": "markdown",
   "metadata": {},
   "source": [
    "* `|` is a vertical pipe connecting north and south.\n",
    "* `-` is a horizontal pipe connecting east and west.\n",
    "* `L` is a 90-degree bend connecting north and east.\n",
    "* `J` is a 90-degree bend connecting north and west.\n",
    "* `7` is a 90-degree bend connecting south and west.\n",
    "* `F` is a 90-degree bend connecting south and east."
   ]
  },
  {
   "cell_type": "code",
   "execution_count": 3,
   "metadata": {},
   "outputs": [],
   "source": [
    "dirs = {\n",
    "    '|': [(1, 0), (-1, 0)],\n",
    "    '-': [(0, 1), (0, -1)],\n",
    "    'L': [(-1, 0), (0, 1)],\n",
    "    'J': [(-1, 0), (0, -1)],\n",
    "    '7': [(1, 0), (0, -1)],\n",
    "    'F': [(1, 0), (0, 1)]\n",
    "}"
   ]
  },
  {
   "cell_type": "code",
   "execution_count": 4,
   "metadata": {},
   "outputs": [],
   "source": [
    "def findS(text: list[str]) -> tuple[int, int]:\n",
    "    for i, l in enumerate(text):\n",
    "        if 'S' in l:\n",
    "            j = l.index('S')\n",
    "            return (i, j)"
   ]
  },
  {
   "cell_type": "code",
   "execution_count": 5,
   "metadata": {},
   "outputs": [
    {
     "data": {
      "text/plain": [
       "(2, 0)"
      ]
     },
     "execution_count": 5,
     "metadata": {},
     "output_type": "execute_result"
    }
   ],
   "source": [
    "findS(test)"
   ]
  },
  {
   "cell_type": "code",
   "execution_count": 14,
   "metadata": {},
   "outputs": [],
   "source": [
    "def part1(text: list[str]) -> int:\n",
    "    posS = findS(text)\n",
    "    prev = (posS[0], posS[1])\n",
    "    if posS[0] > 0 and text[posS[0]-1][posS[1]] in '|7F':\n",
    "        pos = (posS[0]-1, posS[1])\n",
    "    elif posS[0] < len(text)-1 and text[posS[0]+1][posS[1]] in '|LJ':\n",
    "        pos = (posS[0]+1, posS[1])\n",
    "    elif posS[1] > 0 and text[posS[0]][posS[1]-1] in '-LF':\n",
    "        pos = (posS[0], posS[1]-1)\n",
    "    steps = 0\n",
    "    while 1:\n",
    "        steps += 1\n",
    "        if pos == posS:\n",
    "            return int(steps/2)\n",
    "        d = text[pos[0]][pos[1]]\n",
    "        if (pos[0]+dirs[d][0][0], pos[1]+dirs[d][0][1]) == prev:\n",
    "            prev, pos = pos, (pos[0]+dirs[d][1][0], pos[1]+dirs[d][1][1])\n",
    "        else:\n",
    "            prev, pos = pos, (pos[0]+dirs[d][0][0], pos[1]+dirs[d][0][1])"
   ]
  },
  {
   "cell_type": "code",
   "execution_count": 16,
   "metadata": {},
   "outputs": [
    {
     "data": {
      "text/plain": [
       "8"
      ]
     },
     "execution_count": 16,
     "metadata": {},
     "output_type": "execute_result"
    }
   ],
   "source": [
    "part1(test)"
   ]
  },
  {
   "cell_type": "code",
   "execution_count": 15,
   "metadata": {},
   "outputs": [],
   "source": [
    "with open(\"output1\", \"wt\") as f:\n",
    "    f.write(str(part1(inp)))"
   ]
  },
  {
   "cell_type": "code",
   "execution_count": null,
   "metadata": {},
   "outputs": [],
   "source": []
  }
 ],
 "metadata": {
  "kernelspec": {
   "display_name": "usr",
   "language": "python",
   "name": "python3"
  },
  "language_info": {
   "codemirror_mode": {
    "name": "ipython",
    "version": 3
   },
   "file_extension": ".py",
   "mimetype": "text/x-python",
   "name": "python",
   "nbconvert_exporter": "python",
   "pygments_lexer": "ipython3",
   "version": "3.12.0"
  }
 },
 "nbformat": 4,
 "nbformat_minor": 2
}
