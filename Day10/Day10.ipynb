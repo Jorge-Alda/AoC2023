{
 "cells": [
  {
   "cell_type": "code",
   "execution_count": 1,
   "metadata": {},
   "outputs": [],
   "source": [
    "with open(\"test.txt\", \"rt\") as f:\n",
    "    test = f.readlines()"
   ]
  },
  {
   "cell_type": "code",
   "execution_count": 12,
   "metadata": {},
   "outputs": [],
   "source": [
    "with open(\"input\", \"rt\") as f:\n",
    "    inp = f.readlines()"
   ]
  },
  {
   "cell_type": "markdown",
   "metadata": {},
   "source": [
    "* `|` is a vertical pipe connecting north and south.\n",
    "* `-` is a horizontal pipe connecting east and west.\n",
    "* `L` is a 90-degree bend connecting north and east.\n",
    "* `J` is a 90-degree bend connecting north and west.\n",
    "* `7` is a 90-degree bend connecting south and west.\n",
    "* `F` is a 90-degree bend connecting south and east."
   ]
  },
  {
   "cell_type": "code",
   "execution_count": 17,
   "metadata": {},
   "outputs": [],
   "source": [
    "dirs = {\n",
    "    '|': {'S': (1, 0, 'S'), 'N': (-1, 0, 'N')},\n",
    "    '-': {'E': (0, 1, 'E'), 'W': (0, -1, 'W')},\n",
    "    'L': {'W': (-1, 0, 'N'), 'S': (0, 1, 'E')},\n",
    "    'J': {'E': (-1, 0, 'N'), 'S': (0, -1, 'W')},\n",
    "    '7': {'E': (1, 0, 'S'), 'N': (0, -1, 'W')},\n",
    "    'F': {'W': (1, 0, 'S'), 'N': (0, 1, 'E')}\n",
    "}"
   ]
  },
  {
   "cell_type": "code",
   "execution_count": 4,
   "metadata": {},
   "outputs": [],
   "source": [
    "def findS(text: list[str]) -> tuple[int, int]:\n",
    "    for i, l in enumerate(text):\n",
    "        if 'S' in l:\n",
    "            j = l.index('S')\n",
    "            return (i, j)"
   ]
  },
  {
   "cell_type": "code",
   "execution_count": 5,
   "metadata": {},
   "outputs": [
    {
     "data": {
      "text/plain": [
       "(2, 0)"
      ]
     },
     "execution_count": 5,
     "metadata": {},
     "output_type": "execute_result"
    }
   ],
   "source": [
    "findS(test)"
   ]
  },
  {
   "cell_type": "code",
   "execution_count": 18,
   "metadata": {},
   "outputs": [],
   "source": [
    "def part1(text: list[str]) -> int:\n",
    "    posS = findS(text)\n",
    "    if posS[0] > 0 and text[posS[0]-1][posS[1]] in '|7F':\n",
    "        pos = (posS[0]-1, posS[1])\n",
    "        heading = 'N'\n",
    "    elif posS[0] < len(text)-1 and text[posS[0]+1][posS[1]] in '|LJ':\n",
    "        pos = (posS[0]+1, posS[1])\n",
    "        heading = 'S'\n",
    "    elif posS[1] > 0 and text[posS[0]][posS[1]-1] in '-LF':\n",
    "        pos = (posS[0], posS[1]-1)\n",
    "        heading = 'E'\n",
    "    steps = 0\n",
    "    while 1:\n",
    "        steps += 1\n",
    "        if pos == posS:\n",
    "            return int(steps/2)\n",
    "        d = text[pos[0]][pos[1]]\n",
    "        x, y, heading = dirs[d][heading]\n",
    "        pos = (pos[0] + x, pos[1] + y)"
   ]
  },
  {
   "cell_type": "code",
   "execution_count": 19,
   "metadata": {},
   "outputs": [
    {
     "data": {
      "text/plain": [
       "8"
      ]
     },
     "execution_count": 19,
     "metadata": {},
     "output_type": "execute_result"
    }
   ],
   "source": [
    "part1(test)"
   ]
  },
  {
   "cell_type": "code",
   "execution_count": 20,
   "metadata": {},
   "outputs": [],
   "source": [
    "with open(\"output1\", \"wt\") as f:\n",
    "    f.write(str(part1(inp)))"
   ]
  },
  {
   "cell_type": "code",
   "execution_count": 21,
   "metadata": {},
   "outputs": [],
   "source": [
    "import numpy as np"
   ]
  },
  {
   "cell_type": "code",
   "execution_count": 55,
   "metadata": {},
   "outputs": [],
   "source": [
    "def part2(text: list[str]) -> int:\n",
    "    wn = np.zeros((len(text), len(text[0].strip())))\n",
    "    posS = findS(text)\n",
    "    if posS[0] > 0 and text[posS[0]-1][posS[1]] in '|7F':\n",
    "        pos = (posS[0]-1, posS[1])\n",
    "        heading = 'N'\n",
    "    elif posS[0] < len(text)-1 and text[posS[0]+1][posS[1]] in '|LJ':\n",
    "        pos = (posS[0]+1, posS[1])\n",
    "        heading = 'S'\n",
    "    elif posS[1] > 0 and text[posS[0]][posS[1]-1] in '-LF':\n",
    "        pos = (posS[0], posS[1]-1)\n",
    "        heading = 'E'\n",
    "    steps = 0\n",
    "    if heading == 'N':\n",
    "        if posS[0] < len(text)-1 and text[posS[0]+1][posS[1]] in '|LJ':\n",
    "            wn[posS[0], posS[1]] = 1\n",
    "        else:\n",
    "            wn[posS[0], posS[1]] = 0.5\n",
    "    elif heading == 'S':\n",
    "        wn[posS[0], posS[1]] = -0.5\n",
    "    while 1:\n",
    "        d = text[pos[0]][pos[1]]\n",
    "        if heading == 'N':\n",
    "            if d == '|':\n",
    "                wn[pos[0], pos[1]] = 1\n",
    "            else:\n",
    "                wn[pos[0], pos[1]] = 0.5\n",
    "        elif heading == 'S':\n",
    "            if d == '|':\n",
    "                wn[pos[0], pos[1]] = -1\n",
    "            else:\n",
    "                wn[pos[0], pos[1]] = -0.5\n",
    "        steps += 1\n",
    "        x, y, heading = dirs[d][heading]\n",
    "        if heading == 'N':\n",
    "            if d == '|':\n",
    "                wn[pos[0], pos[1]] = 1\n",
    "            else:\n",
    "                wn[pos[0], pos[1]] = 0.5\n",
    "        elif heading == 'S':\n",
    "            if d == '|':\n",
    "                wn[pos[0], pos[1]] = -1\n",
    "            else:\n",
    "                wn[pos[0], pos[1]] = -0.5\n",
    "        pos = (pos[0] + x, pos[1] + y)\n",
    "        if pos == posS:\n",
    "            break\n",
    "    tot = 0\n",
    "    for i in range(len(text)):\n",
    "        s = 0\n",
    "        for j in range(len(text[i].strip())):\n",
    "            if wn[i, j] == 0:\n",
    "                if s %2 == 1:\n",
    "                    tot += 1\n",
    "            else:\n",
    "                s += wn[i, j]\n",
    "    return tot"
   ]
  },
  {
   "cell_type": "code",
   "execution_count": 56,
   "metadata": {},
   "outputs": [
    {
     "data": {
      "text/plain": [
       "1"
      ]
     },
     "execution_count": 56,
     "metadata": {},
     "output_type": "execute_result"
    }
   ],
   "source": [
    "part2(test)"
   ]
  },
  {
   "cell_type": "code",
   "execution_count": 50,
   "metadata": {},
   "outputs": [],
   "source": [
    "with open(\"test2.txt\", \"rt\") as f:\n",
    "    test2 = f.readlines()"
   ]
  },
  {
   "cell_type": "code",
   "execution_count": 57,
   "metadata": {},
   "outputs": [
    {
     "data": {
      "text/plain": [
       "4"
      ]
     },
     "execution_count": 57,
     "metadata": {},
     "output_type": "execute_result"
    }
   ],
   "source": [
    "part2(test2)"
   ]
  },
  {
   "cell_type": "code",
   "execution_count": 53,
   "metadata": {},
   "outputs": [],
   "source": [
    "with open(\"test3.txt\", \"rt\") as f:\n",
    "    test3 = f.readlines()"
   ]
  },
  {
   "cell_type": "code",
   "execution_count": 58,
   "metadata": {},
   "outputs": [
    {
     "data": {
      "text/plain": [
       "8"
      ]
     },
     "execution_count": 58,
     "metadata": {},
     "output_type": "execute_result"
    }
   ],
   "source": [
    "part2(test3)"
   ]
  },
  {
   "cell_type": "code",
   "execution_count": 59,
   "metadata": {},
   "outputs": [],
   "source": [
    "with open(\"output2\", \"wt\") as f:\n",
    "    f.write(str(part2(inp)))"
   ]
  },
  {
   "cell_type": "code",
   "execution_count": null,
   "metadata": {},
   "outputs": [],
   "source": []
  }
 ],
 "metadata": {
  "kernelspec": {
   "display_name": "usr",
   "language": "python",
   "name": "python3"
  },
  "language_info": {
   "codemirror_mode": {
    "name": "ipython",
    "version": 3
   },
   "file_extension": ".py",
   "mimetype": "text/x-python",
   "name": "python",
   "nbconvert_exporter": "python",
   "pygments_lexer": "ipython3",
   "version": "3.12.0"
  }
 },
 "nbformat": 4,
 "nbformat_minor": 2
}
