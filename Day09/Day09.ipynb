{
 "cells": [
  {
   "cell_type": "code",
   "execution_count": 1,
   "metadata": {},
   "outputs": [],
   "source": [
    "with open(\"test.txt\", \"rt\") as f:\n",
    "    test = f.readlines()"
   ]
  },
  {
   "cell_type": "code",
   "execution_count": 4,
   "metadata": {},
   "outputs": [],
   "source": [
    "with open(\"input\", \"rt\") as f:\n",
    "    inp = f.readlines()"
   ]
  },
  {
   "cell_type": "code",
   "execution_count": 12,
   "metadata": {},
   "outputs": [],
   "source": [
    "def diff(seq: list[int]) -> list[int] | None:\n",
    "    if not any(seq):\n",
    "        return None\n",
    "    s = []\n",
    "    for i in range(1, len(seq)):\n",
    "        s.append(seq[i]-seq[i-1])\n",
    "    return s\n",
    "\n",
    "\n",
    "def part1(text: list[str]) -> int:\n",
    "    tot = 0\n",
    "    for l in text:\n",
    "        seqs: list[list[int]] = []\n",
    "        seqs.append(list(map(int, l.split())))\n",
    "        while 1:\n",
    "            s = diff(seqs[-1])\n",
    "            if s is not None:\n",
    "                seqs.append(s)\n",
    "            else:\n",
    "                break\n",
    "        for i in range(2, len(seqs)+1):\n",
    "            seqs[-i].append(seqs[-i][-1]+seqs[-i+1][-1])\n",
    "        tot += seqs[0][-1]\n",
    "    return tot"
   ]
  },
  {
   "cell_type": "code",
   "execution_count": 13,
   "metadata": {},
   "outputs": [
    {
     "data": {
      "text/plain": [
       "114"
      ]
     },
     "execution_count": 13,
     "metadata": {},
     "output_type": "execute_result"
    }
   ],
   "source": [
    "part1(test)"
   ]
  },
  {
   "cell_type": "code",
   "execution_count": 14,
   "metadata": {},
   "outputs": [],
   "source": [
    "with open(\"output1\", \"wt\") as f:\n",
    "    f.write(str(part1(inp)))"
   ]
  },
  {
   "cell_type": "code",
   "execution_count": null,
   "metadata": {},
   "outputs": [],
   "source": []
  }
 ],
 "metadata": {
  "kernelspec": {
   "display_name": "usr",
   "language": "python",
   "name": "python3"
  },
  "language_info": {
   "codemirror_mode": {
    "name": "ipython",
    "version": 3
   },
   "file_extension": ".py",
   "mimetype": "text/x-python",
   "name": "python",
   "nbconvert_exporter": "python",
   "pygments_lexer": "ipython3",
   "version": "3.12.0"
  }
 },
 "nbformat": 4,
 "nbformat_minor": 2
}
