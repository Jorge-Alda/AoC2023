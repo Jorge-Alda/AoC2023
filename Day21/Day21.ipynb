{
 "cells": [
  {
   "cell_type": "code",
   "execution_count": 3,
   "metadata": {},
   "outputs": [],
   "source": [
    "with open('test.txt', 'rt') as f:\n",
    "    test = f.readlines()"
   ]
  },
  {
   "cell_type": "code",
   "execution_count": 19,
   "metadata": {},
   "outputs": [],
   "source": [
    "with open('input', 'rt') as f:\n",
    "    inp = f.readlines()"
   ]
  },
  {
   "cell_type": "code",
   "execution_count": 17,
   "metadata": {},
   "outputs": [],
   "source": [
    "def neighbors(pos: tuple[int, int]) -> set[tuple[int, int]]:\n",
    "    return {(pos[0]+1, pos[1]), (pos[0]-1, pos[1]), (pos[0], pos[1]+1), (pos[0], pos[1]-1)}\n",
    "\n",
    "def part1(garden: list[str], steps: int) -> int:\n",
    "    walls: set[tuple[int, int]] = set()\n",
    "    pos: set[tuple[int, int]] = set()\n",
    "    for y, l in enumerate(garden):\n",
    "        for x, t in enumerate(l.strip()):\n",
    "            if t == 'S':\n",
    "                pos = {(x , y)}\n",
    "            if t == '#':\n",
    "                walls |= {(x, y)}\n",
    "    lenx = len(garden[0])\n",
    "    leny = len(garden)\n",
    "    for x in range(lenx):\n",
    "        walls |= {(x, -1), (x, leny)}\n",
    "    for y in range(leny):\n",
    "        walls |= {(-1, y), (lenx, y)}\n",
    "    for _ in range(steps):\n",
    "        newpos = set()\n",
    "        for p in pos:\n",
    "            newpos |= neighbors(p) - walls\n",
    "        pos = newpos\n",
    "    return len(pos)"
   ]
  },
  {
   "cell_type": "code",
   "execution_count": 18,
   "metadata": {},
   "outputs": [
    {
     "data": {
      "text/plain": [
       "16"
      ]
     },
     "execution_count": 18,
     "metadata": {},
     "output_type": "execute_result"
    }
   ],
   "source": [
    "part1(test, 6)"
   ]
  },
  {
   "cell_type": "code",
   "execution_count": 20,
   "metadata": {},
   "outputs": [],
   "source": [
    "with open('output1', 'wt') as f:\n",
    "    f.write(str(part1(inp, 64)))"
   ]
  },
  {
   "cell_type": "code",
   "execution_count": null,
   "metadata": {},
   "outputs": [],
   "source": []
  }
 ],
 "metadata": {
  "kernelspec": {
   "display_name": "usr",
   "language": "python",
   "name": "python3"
  },
  "language_info": {
   "codemirror_mode": {
    "name": "ipython",
    "version": 3
   },
   "file_extension": ".py",
   "mimetype": "text/x-python",
   "name": "python",
   "nbconvert_exporter": "python",
   "pygments_lexer": "ipython3",
   "version": "3.12.0"
  }
 },
 "nbformat": 4,
 "nbformat_minor": 2
}
