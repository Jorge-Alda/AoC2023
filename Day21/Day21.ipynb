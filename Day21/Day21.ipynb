{
 "cells": [
  {
   "cell_type": "code",
   "execution_count": 3,
   "metadata": {},
   "outputs": [],
   "source": [
    "with open('test.txt', 'rt') as f:\n",
    "    test = f.readlines()"
   ]
  },
  {
   "cell_type": "code",
   "execution_count": 19,
   "metadata": {},
   "outputs": [],
   "source": [
    "with open('input', 'rt') as f:\n",
    "    inp = f.readlines()"
   ]
  },
  {
   "cell_type": "code",
   "execution_count": 17,
   "metadata": {},
   "outputs": [],
   "source": [
    "def neighbors(pos: tuple[int, int]) -> set[tuple[int, int]]:\n",
    "    return {(pos[0]+1, pos[1]), (pos[0]-1, pos[1]), (pos[0], pos[1]+1), (pos[0], pos[1]-1)}\n",
    "\n",
    "def part1(garden: list[str], steps: int) -> int:\n",
    "    walls: set[tuple[int, int]] = set()\n",
    "    pos: set[tuple[int, int]] = set()\n",
    "    for y, l in enumerate(garden):\n",
    "        for x, t in enumerate(l.strip()):\n",
    "            if t == 'S':\n",
    "                pos = {(x , y)}\n",
    "            if t == '#':\n",
    "                walls |= {(x, y)}\n",
    "    lenx = len(garden[0])\n",
    "    leny = len(garden)\n",
    "    for x in range(lenx):\n",
    "        walls |= {(x, -1), (x, leny)}\n",
    "    for y in range(leny):\n",
    "        walls |= {(-1, y), (lenx, y)}\n",
    "    for _ in range(steps):\n",
    "        newpos = set()\n",
    "        for p in pos:\n",
    "            newpos |= neighbors(p) - walls\n",
    "        pos = newpos\n",
    "    return len(pos)"
   ]
  },
  {
   "cell_type": "code",
   "execution_count": 18,
   "metadata": {},
   "outputs": [
    {
     "data": {
      "text/plain": [
       "16"
      ]
     },
     "execution_count": 18,
     "metadata": {},
     "output_type": "execute_result"
    }
   ],
   "source": [
    "part1(test, 6)"
   ]
  },
  {
   "cell_type": "code",
   "execution_count": 20,
   "metadata": {},
   "outputs": [],
   "source": [
    "with open('output1', 'wt') as f:\n",
    "    f.write(str(part1(inp, 64)))"
   ]
  },
  {
   "cell_type": "code",
   "execution_count": 36,
   "metadata": {},
   "outputs": [],
   "source": [
    "def run2(garden: list[str], steps: int) -> int:\n",
    "    walls: set[tuple[int, int]] = set()\n",
    "    pos: set[tuple[int, int]] = set()\n",
    "    lenx = len(garden[0].strip())\n",
    "    leny = len(garden)\n",
    "    for y, l in enumerate(garden):\n",
    "        for x, t in enumerate(l.strip()):\n",
    "            if t == 'S':\n",
    "                pos = {(x, y)}\n",
    "            if t == '#':\n",
    "                walls |= {(x, y)}\n",
    "    for _ in range(steps):\n",
    "        newpos = set()\n",
    "        for p in pos:\n",
    "            for n in neighbors(p):\n",
    "                if (n[0]%lenx, n[1]%leny) not in walls:\n",
    "                    newpos |= {n}\n",
    "        pos = newpos\n",
    "    return len(pos)"
   ]
  },
  {
   "cell_type": "code",
   "execution_count": 37,
   "metadata": {},
   "outputs": [
    {
     "data": {
      "text/plain": [
       "16"
      ]
     },
     "execution_count": 37,
     "metadata": {},
     "output_type": "execute_result"
    }
   ],
   "source": [
    "run2(test, 6)"
   ]
  },
  {
   "cell_type": "code",
   "execution_count": 38,
   "metadata": {},
   "outputs": [
    {
     "data": {
      "text/plain": [
       "50"
      ]
     },
     "execution_count": 38,
     "metadata": {},
     "output_type": "execute_result"
    }
   ],
   "source": [
    "run2(test, 10)"
   ]
  },
  {
   "cell_type": "code",
   "execution_count": 39,
   "metadata": {},
   "outputs": [
    {
     "data": {
      "text/plain": [
       "1594"
      ]
     },
     "execution_count": 39,
     "metadata": {},
     "output_type": "execute_result"
    }
   ],
   "source": [
    "run2(test, 50)"
   ]
  },
  {
   "cell_type": "code",
   "execution_count": 42,
   "metadata": {},
   "outputs": [],
   "source": [
    "plots = []\n",
    "steps = []\n",
    "for i in range(10):\n",
    "    s = len(test)//2+1+i*len(test)\n",
    "    plots.append(run2(test, s))\n",
    "    steps.append(s)"
   ]
  },
  {
   "cell_type": "code",
   "execution_count": 68,
   "metadata": {},
   "outputs": [],
   "source": [
    "plots = []\n",
    "steps = []\n",
    "for s in range(100):\n",
    "    #s = len(test)//2+1+i*len(test)\n",
    "    plots.append(run2(test, s))\n",
    "    steps.append(s)"
   ]
  },
  {
   "cell_type": "code",
   "execution_count": 69,
   "metadata": {},
   "outputs": [
    {
     "data": {
      "text/plain": [
       "[<matplotlib.lines.Line2D at 0x7fe0d7066de0>]"
      ]
     },
     "execution_count": 69,
     "metadata": {},
     "output_type": "execute_result"
    },
    {
     "data": {
      "image/png": "[encoded data removed]",
      "text/plain": [
       "<Figure size 640x480 with 1 Axes>"
      ]
     },
     "metadata": {},
     "output_type": "display_data"
    }
   ],
   "source": [
    "import matplotlib.pyplot as plt\n",
    "\n",
    "plt.plot(steps, plots)"
   ]
  },
  {
   "cell_type": "code",
   "execution_count": 58,
   "metadata": {},
   "outputs": [],
   "source": [
    "import numpy as np\n",
    "\n",
    "m = np.zeros((3, 3))\n",
    "fv = np.zeros((3,1))\n",
    "for i in range(3):\n",
    "    s = len(test)//2+1+i*len(test)\n",
    "    m[i, 0] = s**2\n",
    "    m[i, 1] = s\n",
    "    m[i, 2] = 1\n",
    "    fv[i] = run2(test, s)\n",
    "\n",
    "coeffs = np.matrix(m).I @ fv"
   ]
  },
  {
   "cell_type": "code",
   "execution_count": 61,
   "metadata": {},
   "outputs": [
    {
     "data": {
      "text/plain": [
       "[-7.264462809917305,\n",
       " 121.73553719008267,\n",
       " 436.73553719008254,\n",
       " 937.7355371900821,\n",
       " 1624.7355371900817,\n",
       " 2497.7355371900812,\n",
       " 3556.735537190081,\n",
       " 4801.73553719008,\n",
       " 6232.7355371900785,\n",
       " 7849.7355371900785]"
      ]
     },
     "execution_count": 61,
     "metadata": {},
     "output_type": "execute_result"
    }
   ],
   "source": [
    "[coeffs[0][0,0]*s**2+coeffs[1][0,0]*s+coeffs[0][0,0] for s in steps]"
   ]
  },
  {
   "cell_type": "code",
   "execution_count": 62,
   "metadata": {},
   "outputs": [
    {
     "data": {
      "text/plain": [
       "[<matplotlib.lines.Line2D at 0x7fe0d4567b30>]"
      ]
     },
     "execution_count": 62,
     "metadata": {},
     "output_type": "execute_result"
    },
    {
     "data": {
      "image/png": "[encoded data removed]",
      "text/plain": [
       "<Figure size 640x480 with 1 Axes>"
      ]
     },
     "metadata": {},
     "output_type": "display_data"
    }
   ],
   "source": [
    "import matplotlib.pyplot as plt\n",
    "\n",
    "plt.plot(steps, plots)\n",
    "plt.plot(steps, [coeffs[0][0,0]*s**2+coeffs[1][0,0]*s+coeffs[0][0,0] for s in steps])"
   ]
  },
  {
   "cell_type": "code",
   "execution_count": 84,
   "metadata": {},
   "outputs": [],
   "source": [
    "def part2(garden: list[str]) -> int:\n",
    "    m = np.zeros((3, 3))\n",
    "    fv = np.zeros((3,1))\n",
    "    for i, s in enumerate([65, 65+131, 65+2*131]):\n",
    "        m[i, 0] = s**2\n",
    "        m[i, 1] = s\n",
    "        m[i, 2] = 1\n",
    "        fv[i] = run2(garden, s)\n",
    "\n",
    "    coeffs = np.matrix(m).I @ fv\n",
    "    steps = 26501365\n",
    "    return int(coeffs[0,0]*steps**2+coeffs[1,0]*steps+coeffs[2,0])"
   ]
  },
  {
   "cell_type": "code",
   "execution_count": 86,
   "metadata": {},
   "outputs": [],
   "source": [
    "with open('output2', 'wt') as f:\n",
    "    f.write(str(part2(inp)))"
   ]
  },
  {
   "cell_type": "code",
   "execution_count": null,
   "metadata": {},
   "outputs": [],
   "source": []
  }
 ],
 "metadata": {
  "kernelspec": {
   "display_name": "usr",
   "language": "python",
   "name": "python3"
  },
  "language_info": {
   "codemirror_mode": {
    "name": "ipython",
    "version": 3
   },
   "file_extension": ".py",
   "mimetype": "text/x-python",
   "name": "python",
   "nbconvert_exporter": "python",
   "pygments_lexer": "ipython3",
   "version": "3.12.0"
  }
 },
 "nbformat": 4,
 "nbformat_minor": 2
}
